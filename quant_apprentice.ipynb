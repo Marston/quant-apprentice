{
 "cells": [
  {
   "cell_type": "markdown",
   "id": "4cd69cc6",
   "metadata": {},
   "source": [
    "# 📈 Quant Apprentice: An Agentic AI for Investment Research\n",
    "\n",
    "This notebook is the final implementation of the Quant Apprentice, an autonomous agent designed to perform comprehensive financial\n",
    "analysis on a publicly traded company. \n",
    "The agent follows a sophisticated, multi-phase workflow that mirrors a real-world research team.\n",
    "\n",
    "**Core Agentic Capabilities Demonstrated:**\n",
    "- **Planning**: The agent executes a pre-defined, multi-step plan from data gathering to final report generation.\n",
    "- **Dynamic Tool Use**: It leverages external APIs for financial, news, and macroeconomic data.\n",
    "- **Self-Reflection**: It uses an Evaluator-Optimizer loop to critique and refine its own analysis.\n",
    "- **Learning**: It saves its final analysis to a memory directory for future reference.\n",
    "\n",
    "This notebook will now execute the agent's full workflow for a selected company."
   ]
  },
  {
   "cell_type": "code",
   "execution_count": 1,
   "id": "807de7de",
   "metadata": {},
   "outputs": [
    {
     "name": "stdout",
     "output_type": "stream",
     "text": [
      "Environment is set up. All modules are imported.\n"
     ]
    }
   ],
   "source": [
    "import os\n",
    "import json\n",
    "from datetime import datetime\n",
    "from dotenv import load_dotenv\n",
    "import google.generativeai as genai\n",
    "from IPython.display import display, Markdown\n",
    "\n",
    "# --- Import all project modules ---\n",
    "# This demonstrates the modular design of the project.\n",
    "from src.tools.financial_data_fetcher import get_stock_fundamentals, get_macro_economic_data\n",
    "from src.tools.news_fetcher import get_company_news\n",
    "from src.workflows.news_analysis_chain import analyze_article_chain\n",
    "from src.workflows.specialist_router import route_and_execute_task\n",
    "from src.workflows.report_evaluator import generate_and_evaluate_report\n",
    "from src.memory.vector_memory import VectorMemory\n",
    "\n",
    "# --- Load Environment Variables and Configure APIs ---\n",
    "load_dotenv()\n",
    "genai.configure(api_key=os.getenv(\"GOOGLE_API_KEY\"))\n",
    "\n",
    "print(\"Environment is set up. All modules are imported.\")"
   ]
  },
  {
   "cell_type": "code",
   "execution_count": 2,
   "id": "602a9219",
   "metadata": {},
   "outputs": [
    {
     "name": "stdout",
     "output_type": "stream",
     "text": [
      "🤖 Quant Apprentice agent configured to analyze: NVIDIA (NVDA)\n"
     ]
    }
   ],
   "source": [
    "# --- Configure the Agent's Target and LLM ---\n",
    "\n",
    "# You can change these values to research a different company\n",
    "COMPANY_TICKER = \"NVDA\"\n",
    "COMPANY_NAME = \"NVIDIA\"\n",
    "\n",
    "# Initialize the Gemini Model\n",
    "# Using a lower temperature for more deterministic, factual output\n",
    "llm_config = {'temperature': 0.2}\n",
    "gemini_pro_model = genai.GenerativeModel(\n",
    "    'gemini-2.5-pro',\n",
    "    generation_config=llm_config\n",
    ")\n",
    "\n",
    "print(f\"🤖 Quant Apprentice agent configured to analyze: {COMPANY_NAME} ({COMPANY_TICKER})\")"
   ]
  },
  {
   "cell_type": "code",
   "execution_count": 3,
   "id": "44a60aa3",
   "metadata": {},
   "outputs": [
    {
     "name": "stdout",
     "output_type": "stream",
     "text": [
      "\n",
      "--- [Agent Start]: Beginning analysis for NVIDIA... ---\n",
      "\n",
      "[Phase 1]: Gathering data from all sources...\n",
      "--- [Tool Action]: Fetching fundamental data for NVDA... ---\n",
      "--- [Tool Success]: Successfully fetched fundamentals for NVDA. ---\n",
      "--- [Tool Action]: Fetching macroeconomic data from FRED... ---\n",
      "--- [Tool Success]: Successfully fetched macroeconomic data. ---\n",
      "[Tool Action]: Fetching top 3 news articles for NVIDIA...\n",
      "[Tool Success]: Successfully fetched 3 articles.\n",
      "✅ [Phase 1]: Data gathering complete.\n",
      "\n",
      "[Phase 2]: Processing and routing data to specialist analysts...\n",
      "--- [Workflow Action]: Starting Refined News Analysis Chain... ---\n",
      "--- [Workflow Success]: Refined News Analysis completed. ---\n",
      "--- [Workflow Action]: Starting Refined News Analysis Chain... ---\n",
      "--- [Workflow Success]: Refined News Analysis completed. ---\n",
      "--- [Workflow Action]: Starting Refined News Analysis Chain... ---\n",
      "--- [Workflow Success]: Refined News Analysis completed. ---\n",
      "--- [Router]: Routing to News Analyst... ---\n",
      "--- [Router]: Specialist analysis complete. ---\n",
      "--- [Router]: Routing to Financial Analyst... ---\n",
      "--- [Router]: Specialist analysis complete. ---\n",
      "--- [Router]: Routing to Market Analyst... ---\n",
      "--- [Router]: Specialist analysis complete. ---\n",
      "✅ [Phase 2]: All specialist analyses are complete.\n",
      "\n",
      "[Phase 3]: Synthesizing and refining the final report...\n",
      "--- [Workflow Action]: Starting Report Generation & Evaluation Loop... ---\n",
      "--- [Step 1]: Generating initial draft report... ---\n",
      "--- [Step 2]: Evaluating draft with Risk Manager agent... ---\n",
      "--- [Step 3]: Refining report based on feedback... ---\n",
      "--- [Workflow Success]: Report generation loop complete. ---\n",
      "✅ [Phase 3]: Self-reflection and refinement complete.\n",
      "\n",
      "--- [Agent Finish]: Analysis complete. Displaying final report. ---\n"
     ]
    }
   ],
   "source": [
    "print(f\"\\n--- [Agent Start]: Beginning analysis for {COMPANY_NAME}... ---\")\n",
    "\n",
    "# --- PHASE 1: AUTONOMOUS DATA GATHERING ---\n",
    "# DEMONSTRATION: The agent uses its tools to fetch data from multiple external sources.\n",
    "print(\"\\n[Phase 1]: Gathering data from all sources...\")\n",
    "\n",
    "fred_api_key = os.getenv(\"FRED_API_KEY\")\n",
    "news_api_key = os.getenv(\"NEWS_API_KEY\")\n",
    "\n",
    "financial_data = get_stock_fundamentals(COMPANY_TICKER)\n",
    "macro_data = get_macro_economic_data(fred_api_key)\n",
    "news_data = get_company_news(COMPANY_NAME, news_api_key, num_articles=3) # Fetch 3 articles for broader context\n",
    "\n",
    "print(\"✅ [Phase 1]: Data gathering complete.\")\n",
    "\n",
    "\n",
    "# --- PHASE 2: DATA PROCESSING & SPECIALIST ANALYSIS ---\n",
    "print(\"\\n[Phase 2]: Processing and routing data to specialist analysts...\")\n",
    "\n",
    "# DEMONSTRATION: Workflow 1 - Prompt Chaining\n",
    "# The agent processes each news article to create a structured analysis.\n",
    "processed_news_analyses = []\n",
    "if \"error\" in news_data or not news_data.get(\"articles\"):\n",
    "    print(\"⚠️ Could not retrieve news. Skipping news analysis.\")\n",
    "    news_impact_analysis = \"No news available for analysis.\"\n",
    "else:\n",
    "    for article in news_data[\"articles\"]:\n",
    "        analysis = analyze_article_chain(article['content'], gemini_pro_model)\n",
    "        if \"error\" not in analysis:\n",
    "            processed_news_analyses.append(analysis)\n",
    "    \n",
    "    # DEMONSTRATION: Workflow 2 - Routing\n",
    "    # The agent sends the processed news to the News Analyst specialist.\n",
    "    news_impact_analysis = route_and_execute_task('analyze_news_impact', {\"news_items\": processed_news_analyses}, gemini_pro_model)\n",
    "\n",
    "# The agent routes the other data to their respective specialists.\n",
    "financial_analysis = route_and_execute_task('analyze_financials', financial_data, gemini_pro_model)\n",
    "market_context_analysis = route_and_execute_task('analyze_market_context', macro_data, gemini_pro_model)\n",
    "\n",
    "print(\"✅ [Phase 2]: All specialist analyses are complete.\")\n",
    "\n",
    "\n",
    "# --- PHASE 3: SYNTHESIS, EVALUATION, AND REFINEMENT ---\n",
    "print(\"\\n[Phase 3]: Synthesizing and refining the final report...\")\n",
    "\n",
    "# DEMONSTRATION: Workflow 3 - Evaluator-Optimizer Loop & Agent Self-Reflection\n",
    "# The agent now synthesizes the specialist reports, critiques its own work, and refines the final output.\n",
    "final_outputs = generate_and_evaluate_report(\n",
    "    company_name=COMPANY_NAME,\n",
    "    financial_analysis=financial_analysis,\n",
    "    news_impact_analysis=news_impact_analysis,\n",
    "    market_context_analysis=market_context_analysis,\n",
    "    llm=gemini_pro_model\n",
    ")\n",
    "\n",
    "print(\"✅ [Phase 3]: Self-reflection and refinement complete.\")\n",
    "print(\"\\n--- [Agent Finish]: Analysis complete. Displaying final report. ---\")"
   ]
  },
  {
   "cell_type": "code",
   "execution_count": 4,
   "id": "bcb33202",
   "metadata": {},
   "outputs": [
    {
     "data": {
      "text/markdown": [
       "# Final Investment Report: NVIDIA (NVDA)"
      ],
      "text/plain": [
       "<IPython.core.display.Markdown object>"
      ]
     },
     "metadata": {},
     "output_type": "display_data"
    },
    {
     "data": {
      "text/markdown": [
       "---"
      ],
      "text/plain": [
       "<IPython.core.display.Markdown object>"
      ]
     },
     "metadata": {},
     "output_type": "display_data"
    },
    {
     "data": {
      "text/markdown": [
       "## Initial Draft Report (by Chief Investment Strategist)"
      ],
      "text/plain": [
       "<IPython.core.display.Markdown object>"
      ]
     },
     "metadata": {},
     "output_type": "display_data"
    },
    {
     "data": {
      "text/markdown": [
       "Of course. Here is the synthesized investment report for NVIDIA.\n",
       "\n",
       "***\n",
       "\n",
       "### **Investment Report: NVIDIA Corporation (NVDA)**\n",
       "\n",
       "**To:** Investment Committee\n",
       "**From:** Chief Investment Strategist\n",
       "**Date:** October 26, 2023\n",
       "**Subject:** Investment Recommendation for NVIDIA (NVDA)\n",
       "\n",
       "---\n",
       "\n",
       "#### **1. Executive Summary**\n",
       "\n",
       "NVIDIA presents a classic case of a high-quality, financially robust company whose premium valuation is facing significant macroeconomic headwinds. While the company's fundamentals and strategic positioning are superb, the current high-interest-rate environment creates considerable valuation risk, leading us to a cautious stance.\n",
       "\n",
       "#### **2. Key Findings**\n",
       "\n",
       "*   **Premium Valuation:** The stock trades at a high Trailing P/E of 52.1, indicating that significant future growth is already priced in by the market. (**Quantitative Financial Analysis**)\n",
       "*   **Exceptional Financial Health:** NVIDIA maintains a strong balance sheet with a net cash position (Enterprise Value < Market Cap), affording it significant financial flexibility for reinvestment and R&D. (**Quantitative Financial Analysis**)\n",
       "*   **Unfavorable Macro Environment:** The current high-interest-rate environment (Effective Fed Funds Rate at 4.22%) creates direct headwinds for high-growth technology stocks by increasing the discount rate applied to future earnings. (**Macroeconomic Context**)\n",
       "*   **Strategic Supply Chain Management:** NVIDIA's decision to engage Intel as a foundry customer is a positive strategic development, validating its operational foresight and diversifying its manufacturing base. (**News Impact Analysis**)\n",
       "\n",
       "#### **3. Final Recommendation**\n",
       "\n",
       "Recommendation: **Hold**\n",
       "\n",
       "#### **4. Justification**\n",
       "\n",
       "*   **Exceptional Company Quality vs. Stretched Valuation:** NVIDIA’s fundamentals are undeniable. The **Quantitative Analysis** shows a financially healthy company with strong anticipated earnings growth. However, its P/E ratio of 52.1 is at a significant premium, suggesting the stock is fully valued and vulnerable to any potential earnings miss.\n",
       "\n",
       "*   **Macroeconomic Pressure on Growth Stocks:** The **Macroeconomic Context** report explicitly identifies high-growth technology as a sector facing headwinds from restrictive monetary policy. High interest rates put downward pressure on the valuations of companies like NVIDIA, whose value is heavily derived from long-term future earnings.\n",
       "\n",
       "*   **Positive Catalysts are Insufficient to Overcome Near-Term Risks:** While positive news, such as the strategic partnership with Intel (**News Impact Analysis**), reinforces the long-term bull case, it is not enough to justify adding new capital at this valuation in the current market. A 'Hold' rating acknowledges the company's superior quality while respecting the significant valuation and macroeconomic risks that limit near-term upside potential."
      ],
      "text/plain": [
       "<IPython.core.display.Markdown object>"
      ]
     },
     "metadata": {},
     "output_type": "display_data"
    },
    {
     "data": {
      "text/markdown": [
       "---"
      ],
      "text/plain": [
       "<IPython.core.display.Markdown object>"
      ]
     },
     "metadata": {},
     "output_type": "display_data"
    },
    {
     "data": {
      "text/markdown": [
       "## Skeptical Feedback (by Risk Manager)"
      ],
      "text/plain": [
       "<IPython.core.display.Markdown object>"
      ]
     },
     "metadata": {},
     "output_type": "display_data"
    },
    {
     "data": {
      "text/markdown": [
       "Of course. As a skeptical Risk Manager, here is my constructive feedback on the draft report.\n",
       "\n",
       "*   **The valuation analysis relies heavily on a backward-looking metric.** Citing a Trailing P/E of 52 for a company experiencing exponential earnings growth can be misleading. The core of the investment debate is the *sustainability* of that growth. A stronger analysis would incorporate forward P/E estimates or a PEG ratio to assess if the valuation is truly stretched relative to its future, not its past, earnings power.\n",
       "\n",
       "*   **The report overlooks significant company-specific risks in favor of a generic macroeconomic headwind.** The primary risks to NVIDIA are arguably geopolitical (e.g., US-China chip restrictions impacting a key market) and competitive (e.g., AMD's progress, major customers developing in-house AI chips). These threats are more direct and material than the broad impact of interest rates on discount models.\n",
       "\n",
       "*   **The analysis lacks balance by not quantifying the asymmetric risk profile.** The \"Hold\" recommendation focuses on preventing downside from a valuation correction but doesn't adequately weigh the opportunity cost of missing a continued surge driven by the AI super-cycle. A robust risk assessment would model both a \"macro-driven correction\" scenario and a \"structural growth\" scenario to better frame the potential outcomes."
      ],
      "text/plain": [
       "<IPython.core.display.Markdown object>"
      ]
     },
     "metadata": {},
     "output_type": "display_data"
    },
    {
     "data": {
      "text/markdown": [
       "---"
      ],
      "text/plain": [
       "<IPython.core.display.Markdown object>"
      ]
     },
     "metadata": {},
     "output_type": "display_data"
    },
    {
     "data": {
      "text/markdown": [
       "## **Final, Refined Report**"
      ],
      "text/plain": [
       "<IPython.core.display.Markdown object>"
      ]
     },
     "metadata": {},
     "output_type": "display_data"
    },
    {
     "data": {
      "text/markdown": [
       "Of course. Here is the revised investment report for NVIDIA, incorporating the Risk Manager's feedback to create a more robust and balanced analysis.\n",
       "\n",
       "---\n",
       "\n",
       "### **Final Investment Report: NVIDIA Corporation (NVDA)**\n",
       "\n",
       "**To:** Investment Committee\n",
       "**From:** Chief Investment Strategist\n",
       "**Date:** October 26, 2023\n",
       "**Subject:** Revised Investment Thesis and Recommendation for NVIDIA (NVDA)\n",
       "\n",
       "---\n",
       "\n",
       "### **Executive Summary**\n",
       "\n",
       "This report provides a revised investment recommendation for NVIDIA Corporation (NVDA). Our analysis concludes that NVIDIA is at the epicenter of a structural shift in technology driven by Artificial Intelligence, affording it a dominant market position and unprecedented growth prospects. This is reflected in its robust financial health and a strategic focus on reinvesting capital to solidify its leadership.\n",
       "\n",
       "However, the company's premium valuation is predicated on the flawless execution and long-term sustainability of this growth. This optimism faces significant company-specific risks, including geopolitical tensions surrounding semiconductor supply chains and an intensifying competitive landscape. Furthermore, the restrictive macroeconomic environment poses a latent threat to all high-growth equities.\n",
       "\n",
       "Given the profound asymmetry in potential outcomes—the opportunity cost of missing a generational tech boom versus the risk of a sharp valuation correction—we are upgrading our rationale while maintaining a **Hold** recommendation. This position allows current investors to retain exposure to the powerful AI narrative while acknowledging the material risks that could derail the current trajectory.\n",
       "\n",
       "### **Key Findings**\n",
       "\n",
       "1.  **Dominant Market Position in AI Super-Cycle:** NVIDIA's GPUs are the foundational technology for the current AI revolution. The company has a significant technological moat, a deep software ecosystem (CUDA), and is capturing the vast majority of spending in the AI training and inference markets, leading to exponential earnings growth.\n",
       "\n",
       "2.  **Forward-Looking Valuation Demands Sustained Growth:** While a Trailing P/E of 52.1 appears high, the more relevant Forward P/E of 44.5 indicates significant near-term earnings growth is already priced in. The investment debate hinges on the sustainability of this growth trajectory. The valuation is less a reflection of past performance and more a market expectation of continued, multi-year dominance.\n",
       "\n",
       "3.  **Robust Financial Health and Reinvestment Focus:** The company's balance sheet is exceptionally strong, evidenced by a net cash position (Enterprise Value < Market Cap). A negligible dividend yield (0.02%) and low payout ratio (1.14%) underscore a disciplined strategy of reinvesting nearly all earnings into R&D and expansion to capitalize on the AI opportunity.\n",
       "\n",
       "4.  **Significant Company-Specific Risks:** The primary threats to the investment thesis are not generic market headwinds but are specific to NVIDIA's operations:\n",
       "    *   **Geopolitical Risk:** US-China trade restrictions on advanced semiconductors directly impact a key geographic market and create supply chain uncertainty.\n",
       "    *   **Competitive Risk:** Competitors like AMD are intensifying their efforts in the AI space, while major customers (e.g., Google, Amazon, Microsoft) are developing in-house AI chips, which could reduce their long-term reliance on NVIDIA.\n",
       "\n",
       "### **Recommendation: Hold**\n",
       "\n",
       "We recommend a **Hold** rating for NVIDIA Corporation (NVDA).\n",
       "\n",
       "### **Justification**\n",
       "\n",
       "The \"Hold\" recommendation is based on a careful balancing of two powerful, divergent scenarios. The current market environment for NVIDIA is characterized by extreme potential outcomes, making a neutral stance the most prudent strategic position.\n",
       "\n",
       "**1. The Bull Case: The \"Structural Growth\" Scenario**\n",
       "The argument for continued upside is compelling. If the AI super-cycle is still in its early innings, NVIDIA's growth could continue to exceed already high expectations. In this scenario, the company's dominant market share, technological leadership, and expanding software ecosystem would allow it to compound earnings at a rate that makes the current valuation appear reasonable in hindsight. The opportunity cost of not being invested in what could be a generational technology leader is substantial.\n",
       "\n",
       "**2. The Bear Case: The \"Valuation & Macro Correction\" Scenario**\n",
       "Conversely, the risks are tangible and significant. This scenario could be triggered by several factors:\n",
       "*   **Geopolitical Escalation:** Further restrictions on chip sales to China could materially impact revenue forecasts.\n",
       "*   **Competitive Erosion:** A viable competitor gaining market share or a major customer successfully shifting to an in-house solution would challenge the narrative of NVIDIA's unassailable moat.\n",
       "*   **Macroeconomic Pressure:** While company-specific factors are currently dominant, the high-interest-rate environment makes the entire market sensitive to negative catalysts. Any sign of slowing growth at NVIDIA could trigger a rapid and severe valuation de-rating, as its premium valuation offers little margin for error.\n",
       "\n",
       "**Conclusion:**\n",
       "The \"Hold\" recommendation acknowledges the immense potential outlined in the structural growth scenario while respecting the clear and present dangers identified in the correction scenario. For existing shareholders, it advises against taking profits prematurely in a powerful secular trend. For new investors, it cautions against initiating a position at a peak valuation when significant geopolitical and competitive risks remain unresolved. We will continue to monitor competitive developments and geopolitical news closely for a catalyst that could shift the risk/reward balance decisively in one direction."
      ],
      "text/plain": [
       "<IPython.core.display.Markdown object>"
      ]
     },
     "metadata": {},
     "output_type": "display_data"
    }
   ],
   "source": [
    "# --- Display the Final, Multi-Stage Report ---\n",
    "# This cell clearly shows the agent's iterative improvement process.\n",
    "\n",
    "if \"error\" in final_outputs:\n",
    "    display(Markdown(f\"**An error occurred during the final stage:** {final_outputs['error']}\"))\n",
    "else:\n",
    "    display(Markdown(f\"# Final Investment Report: {COMPANY_NAME} ({COMPANY_TICKER})\"))\n",
    "    \n",
    "    display(Markdown(\"---\"))\n",
    "    display(Markdown(\"## Initial Draft Report (by Chief Investment Strategist)\"))\n",
    "    display(Markdown(final_outputs['draft_report']))\n",
    "    \n",
    "    display(Markdown(\"---\"))\n",
    "    display(Markdown(\"## Skeptical Feedback (by Risk Manager)\"))\n",
    "    display(Markdown(final_outputs['feedback']))\n",
    "    \n",
    "    display(Markdown(\"---\"))\n",
    "    display(Markdown(\"## **Final, Refined Report**\"))\n",
    "    display(Markdown(final_outputs['final_report']))"
   ]
  },
  {
   "cell_type": "code",
   "execution_count": 5,
   "id": "ceb930b6",
   "metadata": {},
   "outputs": [
    {
     "name": "stdout",
     "output_type": "stream",
     "text": [
      "\n",
      "[Phase 4]: Saving final analysis to memory...\n",
      "\n",
      "[Phase 4]: Saving final analysis to vector memory...\n",
      "[Memory]: Initializing ChromaDB at memory/chroma_db\n",
      "[Memory]: Adding analysis for NVDA to vector memory...\n",
      "[Memory]: Successfully added document with ID: NVDA_2025-10-18-11:08:45\n",
      "[Memory]: Querying memory with: 'What was my most recent analysis of NVIDIA?'\n",
      "\n",
      "--- Memory Query Test ---\n"
     ]
    },
    {
     "data": {
      "text/markdown": [
       "**Query:** 'What was my most recent analysis of NVIDIA?'"
      ],
      "text/plain": [
       "<IPython.core.display.Markdown object>"
      ]
     },
     "metadata": {},
     "output_type": "display_data"
    },
    {
     "data": {
      "text/markdown": [
       "**Result:**"
      ],
      "text/plain": [
       "<IPython.core.display.Markdown object>"
      ]
     },
     "metadata": {},
     "output_type": "display_data"
    },
    {
     "data": {
      "text/markdown": [
       "\n",
       "NVIDIA's main strength is its dominance in the AI chip market. However, a key risk is its high valuation \n",
       "and increasing competition from other tech giants in the semiconductor space.\n"
      ],
      "text/plain": [
       "<IPython.core.display.Markdown object>"
      ]
     },
     "metadata": {},
     "output_type": "display_data"
    }
   ],
   "source": [
    "# --- PHASE 4: AGENT LEARNING ---\n",
    "# DEMONSTRATION: The agent saves its final, refined output to a file, simulating memory.\n",
    "# This allows the agent to \"learn\" from its analysis for future reference.\n",
    "\n",
    "print(\"\\n[Phase 4]: Saving final analysis to memory...\")\n",
    "\n",
    "# Create the memory directory if it doesn't exist\n",
    "if not os.path.exists(\"memory\"):\n",
    "    os.makedirs(\"memory\")\n",
    "\n",
    "# Define a unique filename\n",
    "# --- PHASE 4: AGENT LEARNING (VECTOR MEMORY) ---\n",
    "# DEMONSTRATION: The agent saves its final, refined output to a vector database.\n",
    "# This allows the agent to perform semantic searches on its past analyses.\n",
    "\n",
    "print(\"\\n[Phase 4]: Saving final analysis to vector memory...\")\n",
    "\n",
    "# Initialize the memory system\n",
    "memory = VectorMemory()\n",
    "\n",
    "# Add the latest analysis\n",
    "memory.add_analysis(COMPANY_TICKER, final_outputs.get('final_report', 'No report generated.'))\n",
    "\n",
    "# Perform a test query to show the memory is working\n",
    "test_query = f\"What was my most recent analysis of {COMPANY_NAME}?\"\n",
    "query_results = memory.query_memory(test_query, n_results=1)\n",
    "\n",
    "if query_results:\n",
    "    print(\"\\n--- Memory Query Test ---\")\n",
    "    display(Markdown(f\"**Query:** '{test_query}'\"))\n",
    "    display(Markdown(\"**Result:**\"))\n",
    "    display(Markdown(query_results[0]))"
   ]
  },
  {
   "cell_type": "markdown",
   "id": "aeb1ca8b",
   "metadata": {},
   "source": []
  }
 ],
 "metadata": {
  "kernelspec": {
   "display_name": "tensorflow",
   "language": "python",
   "name": "python3"
  },
  "language_info": {
   "codemirror_mode": {
    "name": "ipython",
    "version": 3
   },
   "file_extension": ".py",
   "mimetype": "text/x-python",
   "name": "python",
   "nbconvert_exporter": "python",
   "pygments_lexer": "ipython3",
   "version": "3.12.11"
  }
 },
 "nbformat": 4,
 "nbformat_minor": 5
}
