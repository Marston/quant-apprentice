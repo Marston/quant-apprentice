{
 "cells": [
  {
   "cell_type": "markdown",
   "id": "ceea98e8",
   "metadata": {},
   "source": [
    "# Autonomous Investment Research Agent Demo\n",
    "\n",
    "Interactive demo notebook for the agent: Import modules from src/, run research, view reports/insights.\n",
    "\n",
    "## Quick Setup\n",
    "- Modules: src/investment_research_agent.py, src/tool_router.py, src/news_processor.py, src/analyzers.py.\n",
    "- Run cells sequentially; edit symbol in Cell 3.\n",
    "\n",
    "Oct 11, 2025: AAPL Q4 EPS $1.74 forecast, revenue $101.72B."
   ]
  },
  {
   "cell_type": "code",
   "execution_count": 1,
   "id": "d97e1c4a",
   "metadata": {},
   "outputs": [
    {
     "name": "stdout",
     "output_type": "stream",
     "text": [
      "Agent imported successfully!\n"
     ]
    }
   ],
   "source": [
    "# Imports & Path Setup\n",
    "import sys\n",
    "import json\n",
    "from datetime import datetime\n",
    "import os\n",
    "\n",
    "# Add src to path for imports\n",
    "sys.path.insert(0, 'src')\n",
    "\n",
    "# Core Agent\n",
    "from investment_research_agent import InvestmentResearchAgent\n",
    "\n",
    "print(\"Agent imported successfully!\")"
   ]
  },
  {
   "cell_type": "code",
   "execution_count": null,
   "id": "c90b65d9",
   "metadata": {},
   "outputs": [
    {
     "name": "stdout",
     "output_type": "stream",
     "text": [
      "Research for AAPL complete!\n",
      "{\n",
      "  \"symbol\": \"AAPL\",\n",
      "  \"timestamp\": \"2025-10-11T19:11:22.744589\",\n",
      "  \"plan\": [\n",
      "    \"financials\",\n",
      "    \"prices\",\n",
      "    \"economic\",\n",
      "    \"news\",\n",
      "    \"edgar\",\n",
      "    \"economic\"\n",
      "  ],\n",
      "  \"results\": {\n",
      "    \"financials\": {\n",
      "      \"financials\": {\n",
      "        \"financials\": {\n",
      "          \"revenue\": 408624988160,\n",
      "          \"pe_ratio\": 37.16212,\n",
      "          \"gross_profit\": 190739005440,\n",
      "          \"market_cap\": 3639902470144\n",
      "        },\n",
      "        \"insights\": [\n",
      "          \"high_valuation_risk: PE above historical avg\",\n",
      "          \"strong_revenue: TTM aligns with Q4 $101.72B forecast\",\n",
      "          \"earnings_preview: 2025-10-30, EPS $1.74, Rev $101.72B\"\n",
      "        ],\n",
      "        \"risk_score\": 1\n",
      "      },\n",
      "      \"timestamp\": \"2025-10-11T19:11:22.496582\"\n",
      "    },\n",
      "    \"prices\": {\n",
      "      \"data\": {\n",
      "        \"Open\": [\n",
      "          228.23777327090536,\n",
      "\n",
      "... (truncated; see {symbol}_report.md)\n",
      "\n",
      "Learned Insights: ['high_risk']\n",
      "Plan: ['financials', 'prices', 'economic', 'news', 'edgar', 'economic']\n",
      "Reflection: Avg 1.00: Excellent (Avg Score: 1.00)\n",
      "\n",
      "Outputs: AAPL_report.md (Markdown), test_output.json (JSON)\n"
     ]
    }
   ],
   "source": [
    "# Demo: Run Research\n",
    "symbol = 'AAPL'  # Edit symbol here (e.g., 'TSLA')\n",
    "agent = InvestmentResearchAgent()\n",
    "\n",
    "# Execute full pipeline: Plan → Tools → Chain → Route → Reflect → Learn\n",
    "report = agent.research(symbol)\n",
    "\n",
    "# Preview Report\n",
    "print(f\"Research for {symbol} complete!\")\n",
    "print(json.dumps(report, indent=2, default=str)[:800] + \"\\n... (truncated; see {symbol}_report.md)\")3\n",
    "\n",
    "print(f\"\\nLearned Insights: {report['learned_insights']}\")\n",
    "print(f\"Plan: {report['plan']}\")\n",
    "print(f\"Reflection: {report['reflection']['feedback']} (Avg Score: {report['reflection']['avg_score']:.2f})\")\n",
    "\n",
    "# Files Generated\n",
    "print(f\"\\nOutputs: {symbol}_report.md (Markdown), test_output.json (JSON)\")"
   ]
  },
  {
   "cell_type": "code",
   "execution_count": 3,
   "id": "a2299ef9",
   "metadata": {},
   "outputs": [
    {
     "name": "stdout",
     "output_type": "stream",
     "text": [
      "=== Markdown Report ===\n",
      "# Research Report: AAPL\n",
      "\n",
      "**Timestamp**: 2025-10-11T19:11:22.744589\n",
      "\n",
      "**Plan**: financials, prices, economic, news, edgar, economic\n",
      "\n",
      "## FINANCIALS\n",
      "{\n",
      "  \"financials\": {\n",
      "    \"financials\": {\n",
      "      \"revenue\": 408624988160,\n",
      "      \"pe_ratio\": 37.16212,\n",
      "      \"gross_profit\": 190739005440,\n",
      "      \"market_cap\": 3639902470144\n",
      "    },\n",
      "    \"insights\": [\n",
      "      ...\n",
      "\n",
      "## PRICES\n",
      "{\n",
      "  \"data\": {\n",
      "    \"Open\": [\n",
      "      228.23777327090536,\n",
      "      227.64055393917852,\n",
      "      232.527799450427,\n",
      "      230.52712470524975,\n",
      "      232.348638945834,\n",
      "      235.0858880500012,\n",
      "      233.36389625282...\n",
      "\n",
      "## ECONOMIC\n",
      "{\n",
      "  \"data\": {\n",
      "    \"gdp_growth\": \"3.3%\",\n",
      "    \"quarter\": \"Q2 2025\",\n",
      "    \"value\": 30485.729\n",
      "  },\n",
      "  \"timestamp\": \"2025-10-11T19:11:22.744587\"\n",
      "}...\n",
      "\n",
      "## NEWS\n",
      "{\n",
      "  \"news\": {\n",
      "    \"raw\": [\n",
      "      {\n",
      "        \"title\": \"Apple (AAPL) Stock Might Be Rotting - 24/7 Wall St.\",\n",
      "        \"summary\": \"Doug McIntyre and Lee Jackson both say Apple's innovation has stalled sin...\n",
      "\n",
      "## EDGAR\n",
      "{\n",
      "  \"filing\": {\n",
      "    \"latest\": \"10-K for fiscal year ended Sep 28, 2024\",\n",
      "    \"summary\": \"Annual report: Revenue $383B, gross profit $169B.\",\n",
      "    \"url\": \"https://www.sec.gov/Archives/edgar/data/320193/...\n",
      "\n",
      "**Reflection**: Avg 1.00: Excellent (Avg: 1.00)\n",
      "**Learned**: ['high_risk']\n",
      "\n"
     ]
    }
   ],
   "source": [
    "# Display MD Report (Inline)\n",
    "if os.path.exists(f\"{symbol}_report.md\"):\n",
    "    with open(f\"{symbol}_report.md\", 'r') as f:\n",
    "        print(\"=== Markdown Report ===\")\n",
    "        print(f.read())\n",
    "else:\n",
    "    print(\"Run Cell 3 first to generate MD.\")"
   ]
  },
  {
   "cell_type": "code",
   "execution_count": 4,
   "id": "ba36c5b8",
   "metadata": {},
   "outputs": [
    {
     "name": "stdout",
     "output_type": "stream",
     "text": [
      "=== Agent Memory (Insights Across Runs) ===\n",
      "{\n",
      "  \"insights\": {\n",
      "    \"AAPL\": [\n",
      "      \"high_risk\",\n",
      "      \"analyzed on 2025-10-11T18:49:56.328236\",\n",
      "      \"earnings_preview_needed\",\n",
      "      \"high_risk\",\n",
      "      \"analyzed on 2025-10-11T18:50:59.730617\",\n",
      "      \"high_risk\",\n",
      "      \"analyzed on 2025-10-11T18:51:26.502826\",\n",
      "      \"high_risk\",\n",
      "      \"analyzed on 2025-10-11T19:11:22.744611\"\n",
      "    ],\n",
      "    \"TSLA\": [\n",
      "      \"high_risk\",\n",
      "      \"analyzed on 2025-10-11T18:51:26.873810\",\n",
      "      \"earnings_preview_needed\"\n",
      "    ]\n",
      "  },\n",
      "  \"runs\": [\n",
      "    {\n",
      "      \"timestamp\": \"2025-10-11T18:49:56.329587\",\n",
      "      \"symbol\": \"init\"\n",
      "    },\n",
      "    {\n",
      "      \"timestamp\": \"2025-10-11T18:50:59.730922\",\n",
      "      \"symbol\": \"init\"\n",
      "    },\n",
      "    {\n",
      "      \"timestamp\": \"2025-10-11T18:51:26.503206\",\n",
      "      \"symbol\": \"init\"\n",
      "    },\n",
      "    {\n",
      "      \"timestamp\": \"2025-10-11T19:11:22.744852\",\n",
      "      \"symbol\": \"init\"\n",
      "    }\n",
      "  ]\n",
      "}\n",
      "\n",
      "Re-run Plan (Biased?): ['financials', 'prices', 'economic']...\n"
     ]
    }
   ],
   "source": [
    "# Inspect Learning (Memory)\n",
    "print(\"=== Agent Memory (Insights Across Runs) ===\")\n",
    "print(json.dumps(agent.memory, indent=2))\n",
    "\n",
    "# Re-run to see bias (e.g., 'high_risk' inserts 'economic' early)\n",
    "report_rerun = agent.research(symbol)\n",
    "print(f\"\\nRe-run Plan (Biased?): {report_rerun['plan'][:3]}...\")"
   ]
  },
  {
   "cell_type": "code",
   "execution_count": 5,
   "id": "f7b0547d",
   "metadata": {},
   "outputs": [
    {
     "name": "stdout",
     "output_type": "stream",
     "text": [
      "\n",
      "AAPL: Score 1.00, Insights ['high_risk']\n",
      "\n",
      "TSLA: Score 1.00, Insights ['high_risk']\n",
      "\n",
      "Memory Updated: {\n",
      "  \"AAPL\": 13,\n",
      "  \"TSLA\": 5\n",
      "}\n"
     ]
    }
   ],
   "source": [
    "# Multi-Symbol Demo (E2E)\n",
    "symbols = ['AAPL', 'TSLA']\n",
    "for sym in symbols:\n",
    "    report = agent.research(sym)\n",
    "    print(f\"\\n{sym}: Score {report['reflection']['avg_score']:.2f}, Insights {report['learned_insights']}\")\n",
    "\n",
    "print(\"\\nMemory Updated:\", json.dumps({k: len(v) for k, v in agent.memory['insights'].items()}, indent=2))"
   ]
  },
  {
   "cell_type": "code",
   "execution_count": 6,
   "id": "cfd4db73",
   "metadata": {},
   "outputs": [
    {
     "name": "stdout",
     "output_type": "stream",
     "text": [
      "Plan Bias Test: True\n",
      "Reflection Depth Test: True\n",
      "News Chaining Test: True\n"
     ]
    }
   ],
   "source": [
    "# Quick Unit Tests (Post-Demo Validation)\n",
    "def test_plan_bias():\n",
    "    agent.memory['insights']['AAPL'] = ['high_risk']\n",
    "    plan = agent.plan_research('AAPL')\n",
    "    return 'economic' in plan[1]\n",
    "\n",
    "def test_reflect_depth():\n",
    "    mock_ts = datetime.now().isoformat()\n",
    "    mock_results = {\n",
    "        'prices': {'data': {}, 'timestamp': mock_ts},\n",
    "        'financials': {'financials': {'insights': ['test']}, 'timestamp': mock_ts}\n",
    "    }\n",
    "    agent.plan = ['prices', 'financials']\n",
    "    report = agent.generate_report(mock_results, 'AAPL')\n",
    "    reflection = agent.self_reflect(report)\n",
    "    return reflection['scores']['depth'] >= 0.5\n",
    "\n",
    "print(f\"Plan Bias Test: {test_plan_bias()}\")\n",
    "print(f\"Reflection Depth Test: {test_reflect_depth()}\")\n",
    "\n",
    "# Chaining Test (News)\n",
    "from news_processor import NewsProcessor\n",
    "np = NewsProcessor()\n",
    "mock_news = [{\"title\": \"Test\", \"summary\": \"bad news fall\"}]\n",
    "processed = np.chain_news(mock_news)\n",
    "print(f\"News Chaining Test: {processed['classified'][0]['sentiment'] == 'negative'}\")"
   ]
  },
  {
   "cell_type": "code",
   "execution_count": 7,
   "id": "98d4f44d",
   "metadata": {},
   "outputs": [
    {
     "data": {
      "text/html": [
       "\n",
       "        <div class=\"mermaid-8a62c9b6-9726-46a0-acb1-0832bfa19172\"></div>\n",
       "        <script type=\"module\">\n",
       "            import mermaid from 'https://cdn.jsdelivr.net/npm/mermaid@10.1.0/+esm'\n",
       "            const graphDefinition = 'graph TD\\n    A[Symbol Input] --> B[Plan: Dynamic + Memory Bias]\\n    B --> C[Tools: yfinance + Fallbacks]\\n    C --> D[Chain News: Preprocess/Classify/Extract/Summarize]\\n    D --> E[Route: EarningsAnalyzer Insights]\\n    E --> F[Reflect: Score Criteria]\\n    F --> G{<0.75?}\\n    G -->|Yes| H[Optimize: Re-Route Low Step]\\n    H --> E\\n    G -->|No| I[Learn: Flag to Memory]\\n    I --> J[Output: JSON/MD]\\n';\n",
       "            const element = document.querySelector('.mermaid-8a62c9b6-9726-46a0-acb1-0832bfa19172');\n",
       "            const { svg } = await mermaid.render('graphDiv-8a62c9b6-9726-46a0-acb1-0832bfa19172', graphDefinition);\n",
       "            element.innerHTML = svg;\n",
       "        </script>\n",
       "        "
      ],
      "text/plain": [
       "<mermaid.mermaid.Mermaid at 0x13090b980>"
      ]
     },
     "execution_count": 7,
     "metadata": {},
     "output_type": "execute_result"
    }
   ],
   "source": [
    "from mermaid import Mermaid\n",
    "# Mermaid Diagram (Paste to Markdown Viewer)\n",
    "diagram = Mermaid(\"\"\"\n",
    "graph TD\n",
    "    A[Symbol Input] --> B[Plan: Dynamic + Memory Bias]\n",
    "    B --> C[Tools: yfinance + Fallbacks]\n",
    "    C --> D[Chain News: Preprocess/Classify/Extract/Summarize]\n",
    "    D --> E[Route: EarningsAnalyzer Insights]\n",
    "    E --> F[Reflect: Score Criteria]\n",
    "    F --> G{<0.75?}\n",
    "    G -->|Yes| H[Optimize: Re-Route Low Step]\n",
    "    H --> E\n",
    "    G -->|No| I[Learn: Flag to Memory]\n",
    "    I --> J[Output: JSON/MD]\n",
    "\"\"\")\n",
    "diagram  # Renders SVG below"
   ]
  },
  {
   "cell_type": "code",
   "execution_count": 8,
   "id": "d73648fc",
   "metadata": {},
   "outputs": [
    {
     "name": "stdout",
     "output_type": "stream",
     "text": [
      "\n",
      "import streamlit as st\n",
      "from investment_research_agent import InvestmentResearchAgent\n",
      "\n",
      "st.title(\"Agent Demo UI\")\n",
      "symbol = st.text_input(\"Symbol:\", \"AAPL\").upper()\n",
      "if st.button(\"Research\"):\n",
      "    agent = InvestmentResearchAgent()\n",
      "    report = agent.research(symbol)\n",
      "    st.json(report)\n",
      "    st.download_button(\"Download MD\", data=open(f\"{symbol}_report.md\").read(), file_name=f\"{symbol}.md\")\n",
      "\n"
     ]
    }
   ],
   "source": [
    "# Streamlit UI Code (Save to app.py & Run: streamlit run app.py)\n",
    "ui_code = \"\"\"\n",
    "import streamlit as st\n",
    "from investment_research_agent import InvestmentResearchAgent\n",
    "\n",
    "st.title(\"Agent Demo UI\")\n",
    "symbol = st.text_input(\"Symbol:\", \"AAPL\").upper()\n",
    "if st.button(\"Research\"):\n",
    "    agent = InvestmentResearchAgent()\n",
    "    report = agent.research(symbol)\n",
    "    st.json(report)\n",
    "    st.download_button(\"Download MD\", data=open(f\"{symbol}_report.md\").read(), file_name=f\"{symbol}.md\")\n",
    "\"\"\"\n",
    "print(ui_code)"
   ]
  }
 ],
 "metadata": {
  "kernelspec": {
   "display_name": "tensorflow",
   "language": "python",
   "name": "python3"
  },
  "language_info": {
   "codemirror_mode": {
    "name": "ipython",
    "version": 3
   },
   "file_extension": ".py",
   "mimetype": "text/x-python",
   "name": "python",
   "nbconvert_exporter": "python",
   "pygments_lexer": "ipython3",
   "version": "3.12.11"
  }
 },
 "nbformat": 4,
 "nbformat_minor": 5
}
