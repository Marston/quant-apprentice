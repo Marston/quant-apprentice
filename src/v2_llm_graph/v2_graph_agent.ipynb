{
 "cells": [
  {
   "cell_type": "code",
   "execution_count": 1,
   "id": "6930b36c",
   "metadata": {},
   "outputs": [
    {
     "name": "stdout",
     "output_type": "stream",
     "text": [
      "🚀 Starting Quant Apprentice agent for Starbucks...\n",
      "[Node]: Gathering Data...\n",
      "--- [Tool Action]: Fetching fundamental data for SBUX... ---\n",
      "--- [Tool Success]: Successfully fetched fundamentals for SBUX. ---\n",
      "--- [Tool Action]: Fetching macroeconomic data from FRED... ---\n",
      "--- [Tool Success]: Successfully fetched macroeconomic data. ---\n",
      "[Tool Action]: Fetching top 3 news articles for Starbucks...\n",
      "[Tool Success]: Successfully fetched 3 articles.\n",
      "--- [Node]: Retrieving from Vector Memory... ---\n",
      "[Memory]: Initializing ChromaDB at src/memory/chroma_db\n",
      "[Memory]: Querying memory with: 'What was my past analysis and conclusion for Starbucks?'\n",
      "--- [Memory]: Found relevant past analysis. ---\n",
      "[Node]: Fetching SEC Filings...\n",
      "[Tool Action]: Fetching latest SEC filings for SBUX...\n",
      "[Tool Success]: Found latest filing: 10-K filed on 2024-11-20\n",
      "[Node]: Performing Specialist Analysis...\n",
      "--- [Workflow Action]: Starting Refined News Analysis Chain... ---\n",
      "--- [Workflow Success]: Refined News Analysis completed. ---\n",
      "--- [Workflow Action]: Starting Refined News Analysis Chain... ---\n",
      "--- [Workflow Success]: Refined News Analysis completed. ---\n",
      "--- [Workflow Action]: Starting Refined News Analysis Chain... ---\n",
      "--- [Workflow Success]: Refined News Analysis completed. ---\n",
      "--- [Router]: Routing to Financial Analyst... ---\n",
      "--- [Router]: Specialist analysis complete. ---\n",
      "--- [Router]: Routing to News Analyst... ---\n",
      "--- [Router]: Specialist analysis complete. ---\n",
      "--- [Router]: Routing to Market Analyst... ---\n",
      "--- [Router]: Specialist analysis complete. ---\n",
      "[Node]: Synthesizing Draft Report...\n",
      "[Node]: Evaluating Draft Report...\n",
      "--- [Conditional Edge]: Using LLM to check feedback... ---\n",
      "--- [LLM Decision]: Feedback requires revision. Refining report. ---\n",
      "[Node]: Refining Final Report...\n",
      "--- [Node]: Saving to Vector Memory... ---\n",
      "[Memory]: Initializing ChromaDB at src/memory/chroma_db\n",
      "[Memory]: Adding analysis for SBUX to vector memory...\n",
      "[Memory]: Successfully added document with ID: SBUX_2025-10-18-15:47:44\n",
      "\n",
      "==================================================\n",
      "✅ Agent run complete.\n",
      "==================================================\n",
      "\n"
     ]
    },
    {
     "data": {
      "text/markdown": [
       "# Final Investment Report: Starbucks (SBUX)"
      ],
      "text/plain": [
       "<IPython.core.display.Markdown object>"
      ]
     },
     "metadata": {},
     "output_type": "display_data"
    },
    {
     "data": {
      "text/markdown": [
       "---"
      ],
      "text/plain": [
       "<IPython.core.display.Markdown object>"
      ]
     },
     "metadata": {},
     "output_type": "display_data"
    },
    {
     "data": {
      "text/markdown": [
       "## Final Critic's Feedback:"
      ],
      "text/plain": [
       "<IPython.core.display.Markdown object>"
      ]
     },
     "metadata": {},
     "output_type": "display_data"
    },
    {
     "data": {
      "text/markdown": [
       "As requested, here is a concise critique from the perspective of a skeptical Risk Manager:\n",
       "\n",
       "*   **The analysis presents a compelling bearish case but may suffer from confirmation bias.** The report exclusively focuses on negative data points while omitting any potential mitigating factors. To provide a more balanced risk assessment, it should acknowledge Starbucks' significant brand equity, global scale, and historical pricing power, which could provide resilience against the cited macroeconomic and operational headwinds.\n",
       "*   **The interpretation of key financial metrics may be overly simplistic and alarmist.** The negative Price-to-Book ratio is presented as a definitive sign of financial fragility. However, for a mature company like Starbucks, this is often a consequence of sustained share buyback programs, not necessarily operational distress. The analysis needs to differentiate between a weak balance sheet and an aggressive capital return strategy.\n",
       "*   **The report fails to analyze the primary risk of its own recommendation: being wrong.** It dismisses the market's forward P/E of 22.9 as simple optimism but doesn't quantify the potential cost if the consensus growth expectations are met. A key risk is that the current operational issues are temporary, and a sentiment reversal could lead to a sharp rally, making a strong \"Sell\" a costly position."
      ],
      "text/plain": [
       "<IPython.core.display.Markdown object>"
      ]
     },
     "metadata": {},
     "output_type": "display_data"
    },
    {
     "data": {
      "text/markdown": [
       "---"
      ],
      "text/plain": [
       "<IPython.core.display.Markdown object>"
      ]
     },
     "metadata": {},
     "output_type": "display_data"
    },
    {
     "data": {
      "text/markdown": [
       "## **Final Report Delivered:**"
      ],
      "text/plain": [
       "<IPython.core.display.Markdown object>"
      ]
     },
     "metadata": {},
     "output_type": "display_data"
    },
    {
     "data": {
      "text/markdown": [
       "Of course. Here is the final, refined investment report for Starbucks, revised to incorporate the Risk Manager's feedback for a more robust and balanced perspective.\n",
       "\n",
       "---\n",
       "\n",
       "### **Final Investment Report: Starbucks Corporation (SBUX)**\n",
       "\n",
       "**To:** Investment Committee\n",
       "**From:** Chief Investment Strategist\n",
       "**Date:** October 26, 2023\n",
       "**Subject:** Revised Investment Thesis and Recommendation for Starbucks (SBUX)\n",
       "\n",
       "### **Executive Summary**\n",
       "\n",
       "This report provides a revised investment recommendation for Starbucks Corporation (SBUX), updated following a comprehensive risk review. Our initial analysis highlighted several bearish indicators, including operational headwinds, concerning financial metrics, and macroeconomic pressures. However, a deeper, more balanced assessment reveals a more complex picture.\n",
       "\n",
       "While near-term challenges are significant, they are counterbalanced by Starbucks' formidable brand equity, global scale, and the market's strong expectation of an earnings recovery. Key financial metrics, initially viewed as alarmist, can be reinterpreted as outcomes of an aggressive capital return strategy rather than signs of fundamental distress.\n",
       "\n",
       "Consequently, we are upgrading our recommendation from a bearish stance to **Hold/Neutral**. This revised position acknowledges the current risks while respecting the company's long-term resilience and the potential for a significant stock price recovery if operational issues prove transitory.\n",
       "\n",
       "### **Key Findings**\n",
       "\n",
       "Our analysis is structured around four key findings that balance the prevailing risks with the company's underlying strengths.\n",
       "\n",
       "1.  **Operational and Macroeconomic Headwinds Present Clear Near-Term Risks:** Recent news flow indicates tangible challenges, including slowing growth and potential margin compression from new operational policies. These company-specific issues are amplified by a cautious macroeconomic environment where persistent inflation and high interest rates threaten to curb consumer discretionary spending, a category core to Starbucks' business.\n",
       "\n",
       "2.  **Valuation Reflects a Tug-of-War Between Past Performance and Future Expectations:** SBUX trades at a premium trailing P/E of 37.0. However, the market's forward P/E of 22.9 signals strong consensus expectations for a significant earnings rebound. Dismissing this as mere optimism would be imprudent; it represents a material risk to any outright bearish thesis.\n",
       "\n",
       "3.  **Key Financial Metrics Require Nuanced Interpretation:**\n",
       "    *   **Negative Book Value:** The Price-to-Book ratio of -12.6, while concerning at first glance, is more likely a consequence of a sustained and aggressive share buyback program rather than a sign of operational insolvency. This strategy has returned significant capital to shareholders but has also increased leverage, a calculated risk.\n",
       "    *   **Dividend Sustainability:** The dividend payout ratio of 103.9% is unsustainable at its current level relative to trailing earnings. While the 2.91% yield is attractive, its security depends entirely on the company achieving its forward earnings growth targets.\n",
       "\n",
       "4.  **Underlying Strengths Provide Significant Resilience:** The bearish case overlooks Starbucks' powerful mitigating factors. Its globally recognized brand provides substantial pricing power, allowing it to navigate inflationary pressures more effectively than competitors. Furthermore, its vast scale and loyal customer base create a durable competitive moat that should not be underestimated, providing a strong foundation for recovery.\n",
       "\n",
       "### **Recommendation: HOLD / NEUTRAL**\n",
       "\n",
       "We recommend a **Hold** rating for Starbucks Corporation (SBUX).\n",
       "\n",
       "We advise clients currently holding positions to maintain them. We do not recommend initiating new long or short positions at this time. This neutral stance is warranted until there is greater clarity on two fronts: 1) tangible evidence of an operational turnaround and 2) stabilization in the consumer discretionary spending environment.\n",
       "\n",
       "### **Justification**\n",
       "\n",
       "Our **Hold** recommendation is based on a careful balance between the tangible near-term risks and the company's formidable long-term strengths. The initial analysis, while correctly identifying immediate challenges, adopted an overly bearish perspective that failed to adequately weigh countervailing factors.\n",
       "\n",
       "*   **Acknowledging the Risk of Being Wrong:** The primary risk of a \"Sell\" recommendation is that the current operational issues are temporary and that the market's consensus is correct. If Starbucks successfully navigates its challenges and delivers on the expected earnings growth, a sentiment reversal could lead to a sharp rally. A Hold position mitigates the risk of being caught on the wrong side of such a recovery.\n",
       "\n",
       "*   **A More Balanced View of Financial Health:** By re-contextualizing the negative book value as a result of an intentional capital return strategy, we move from an alarmist view of financial fragility to a more measured assessment of a leveraged balance sheet. The risk remains, but its nature is different—it is a strategic choice, not necessarily a sign of distress.\n",
       "\n",
       "*   **Respecting Intangible Assets:** The initial report neglected to quantify the immense value of Starbucks' brand and global footprint. These assets provide a crucial buffer in turbulent times and are a primary reason for the market's continued confidence in a long-term recovery.\n",
       "\n",
       "In conclusion, while headwinds are undeniable, the case for an imminent, sustained decline is not conclusive enough to warrant a \"Sell\" rating. The prudent course of action is to remain on the sidelines, acknowledging both the downside risks and the significant upside potential, pending further data."
      ],
      "text/plain": [
       "<IPython.core.display.Markdown object>"
      ]
     },
     "metadata": {},
     "output_type": "display_data"
    }
   ],
   "source": [
    "from src.agent_graph import app, AgentState\n",
    "from IPython.display import display, Markdown\n",
    "import json\n",
    "\n",
    "# --- Agent Configuration ---\n",
    "#company_name = \"Microsoft\"\n",
    "#company_ticker = \"MSFT\"\n",
    "company_name = \"Starbucks\"\n",
    "company_ticker = \"SBUX\"\n",
    "\n",
    "\n",
    "# This is the initial input for our graph.\n",
    "initial_state: AgentState = {\n",
    "    \"company_name\": company_name,\n",
    "    \"company_ticker\": company_ticker,\n",
    "    \"revision_count\": 0\n",
    "}\n",
    "\n",
    "print(f\"🚀 Starting Quant Apprentice agent for {company_name}...\")\n",
    "\n",
    "# --- Run the Agentic Graph ---\n",
    "# The .stream() method lets us see the output of each node as it runs.\n",
    "final_state = app.invoke(initial_state)\n",
    "\n",
    "# --- Display Final Report ---\n",
    "print(\"\\n\" + \"=\"*50)\n",
    "print(\"✅ Agent run complete.\")\n",
    "print(\"=\"*50 + \"\\n\")\n",
    "\n",
    "if final_state:\n",
    "    display(Markdown(f\"# Final Investment Report: {company_name} ({company_ticker})\"))\n",
    "    \n",
    "    # The final report will either be in 'final_report' (if refined)\n",
    "    # or 'draft_report' (if the first draft was approved).\n",
    "    # We default to the draft if the final key doesn't exist.\n",
    "    report_to_display = final_state.get('final_report', final_state.get('draft_report', \"*No report was generated.*\"))\n",
    "    feedback = final_state.get('feedback', \"*No feedback was generated.*\")\n",
    "    \n",
    "    display(Markdown(\"---\"))\n",
    "    display(Markdown(\"## Final Critic's Feedback:\"))\n",
    "    display(Markdown(feedback))\n",
    "    \n",
    "    display(Markdown(\"---\"))\n",
    "    display(Markdown(\"## **Final Report Delivered:**\"))\n",
    "    display(Markdown(report_to_display))\n",
    "else:\n",
    "    display(Markdown(f\"# Agent Run Failed for {company_name}\"))\n",
    "    display(Markdown(\"The agent did not produce a final state. Please check the logs for errors.\"))"
   ]
  }
 ],
 "metadata": {
  "kernelspec": {
   "display_name": "tensorflow",
   "language": "python",
   "name": "python3"
  },
  "language_info": {
   "codemirror_mode": {
    "name": "ipython",
    "version": 3
   },
   "file_extension": ".py",
   "mimetype": "text/x-python",
   "name": "python",
   "nbconvert_exporter": "python",
   "pygments_lexer": "ipython3",
   "version": "3.12.11"
  }
 },
 "nbformat": 4,
 "nbformat_minor": 5
}
