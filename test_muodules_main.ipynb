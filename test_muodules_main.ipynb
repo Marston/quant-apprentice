{
 "cells": [
  {
   "cell_type": "code",
   "execution_count": null,
   "id": "217dcc61",
   "metadata": {},
   "outputs": [],
   "source": [
    "import google.generativeai as genai\n",
    "import os\n",
    "\n",
    "from emoji import emojize as em\n",
    "from dotenv import load_dotenv\n",
    "from newsapi import NewsApiClient\n",
    "from IPython.display import display, Markdown\n",
    "\n",
    "# --- Import all our project's modules ---\n",
    "from src.tools.financial_data_fetcher import get_stock_fundamentals, get_macro_economic_data\n",
    "from src.tools.news_fetcher import get_company_news\n",
    "from src.workflows.news_analysis_chain import analyze_article_chain\n",
    "from src.workflows.specialist_router import route_and_execute_task\n",
    "from src.workflows.report_evaluator import generate_and_evaluate_report"
   ]
  },
  {
   "cell_type": "code",
   "execution_count": 13,
   "id": "99ce1de7",
   "metadata": {},
   "outputs": [
    {
     "name": "stdout",
     "output_type": "stream",
     "text": [
      "Attempting to load environment variables...\n",
      "✅ GOOGLE_API_KEY loaded successfully (...QZws)\n",
      "✅ FRED_API_KEY loaded successfully (...d13f)\n",
      "✅ NEWS_API_KEY loaded successfully (...2967)\n",
      "✅ All API keys are loaded. Environment setup is complete!\n",
      "✅ Gemini client configured successfully.\n"
     ]
    }
   ],
   "source": [
    "# Run and verify that environment variables are loaded correctly\n",
    "\n",
    "# Load environment variables from the .env file\n",
    "load_dotenv()\n",
    "print(\"Attempting to load environment variables...\")\n",
    "\n",
    "# --- Verification Check ---\n",
    "keys = [\"GOOGLE_API_KEY\", \"FRED_API_KEY\", \"NEWS_API_KEY\"]\n",
    "all_keys_loaded = True\n",
    "\n",
    "for key in keys:\n",
    "    value = os.getenv(key)\n",
    "    if value:\n",
    "        # To avoid printing the whole key, we'll just show the last 4 characters\n",
    "        print(f\"{em('\\u2705')} {key} loaded successfully (...{value[-4:]})\")\n",
    "    else:\n",
    "        print(f\"{em(':fail_emoji_cross:')} {key} NOT FOUND. Please check your .env file.\")\n",
    "        all_keys_loaded = False\n",
    "\n",
    "if all_keys_loaded:\n",
    "    print(f\"{em('\\u2705')} All API keys are loaded. Environment setup is complete!\")\n",
    "    \n",
    "    # Let's also try to configure the Gemini client to be sure\n",
    "    try:\n",
    "        genai.configure(api_key=os.getenv(\"GOOGLE_API_KEY\"))\n",
    "        print(f\"{em('\\u2705')} Gemini client configured successfully.\")\n",
    "    except Exception as e:\n",
    "        print(f\"{em(':fail_emoji_cross:')} Error configuring Gemini client: {e}\")\n",
    "else:\n",
    "    print(f\"{em(':fail_emoji_cross:')} One or more API keys are missing. Please fix your .env file before proceeding.\")"
   ]
  },
  {
   "cell_type": "code",
   "execution_count": 14,
   "id": "c31b617c",
   "metadata": {},
   "outputs": [],
   "source": [
    "# Agent config\n",
    "news_api_key = os.getenv(\"NEWS_API_KEY\")\n",
    "google_api_key = os.getenv(\"GOOGLE_API_KEY\")\n",
    "fred_api_key = os.getenv(\"FRED_API_KEY\")\n",
    "\n",
    "gemini_pro_model = genai.GenerativeModel('gemini-2.5-pro')\n",
    "\n",
    "\n",
    "def get_company_news(company_name: str, api_key: str, num_articles: int = 5) -> dict:\n",
    "    \"\"\"\n",
    "    Fetches and processes top news headlines for a given company using the NewsAPI.\n",
    "\n",
    "    Args:\n",
    "        company_name: The name of the company to search for (e.g., \"NVIDIA\").\n",
    "        api_key: Your NewsAPI.org API key.\n",
    "        num_articles: The number of articles to return.\n",
    "\n",
    "    Returns:\n",
    "        A dictionary containing a list of processed articles or an error message.\n",
    "    \"\"\"\n",
    "    print(f\"[Tool Action]: Fetching top {num_articles} news articles for {company_name}...\")\n",
    "    try:\n",
    "        newsapi = NewsApiClient(api_key=api_key)\n",
    "\n",
    "        # Fetch top headlines. We use the company name as the query.\n",
    "        # We search for English articles and sort by relevancy.\n",
    "        top_headlines = newsapi.get_everything(\n",
    "            q=company_name,\n",
    "            language='en',\n",
    "            sort_by='relevancy',\n",
    "            page_size=num_articles\n",
    "        )\n",
    "\n",
    "        if top_headlines['status'] != 'ok':\n",
    "            return {\"ERROR\": \"Failed to fetch news from NewsAPI.\"}\n",
    "\n",
    "        # Process the articles to extract only the information our agent needs.\n",
    "        processed_articles = []\n",
    "        for article in top_headlines['articles']:\n",
    "            processed_articles.append({\n",
    "                \"source\": article['source']['name'],\n",
    "                \"title\": article['title'],\n",
    "                \"url\": article['url'],\n",
    "                \"publishedAt\": article['publishedAt'],\n",
    "                \"content\": article.get('content', 'No content available.') # Content can sometimes be null\n",
    "            })\n",
    "        \n",
    "        print(f\"[Tool Success]: Successfully fetched {len(processed_articles)} articles.\")\n",
    "        return {\"articles\": processed_articles}\n",
    "\n",
    "    except Exception as e:\n",
    "        error_message = f\"An error occurred while fetching news: {e}\"\n",
    "        print(f\"[Tool Error]: {error_message}\")\n",
    "        return {\"ERROR\": error_message}"
   ]
  },
  {
   "cell_type": "code",
   "execution_count": 4,
   "id": "18f1e0f5",
   "metadata": {},
   "outputs": [
    {
     "name": "stdout",
     "output_type": "stream",
     "text": [
      "[Test Run]: Testing Company News Fetcher Tool.\n",
      "[Tool Action]: Fetching top 5 news articles for Microsoft...\n",
      "[Tool Success]: Successfully fetched 5 articles.\n",
      "[Test Result]: Successfully retrieved news for Microsoft.\n",
      "  -> First article title: 'Microsoft 365 Premium bundles Office and AI for the same price as ChatGPT Plus'\n",
      "  -> Source: The Verge\n"
     ]
    }
   ],
   "source": [
    "# test functions\n",
    "print(\"[Test Run]: Testing Company News Fetcher Tool.\")\n",
    "\n",
    "company_to_research = \"Microsoft\"\n",
    "\n",
    "if not news_api_key:\n",
    "    print(\"[Test Error]: NEWS_API_KEY not found in .env file.\")\n",
    "else:\n",
    "    news_data = get_company_news(company_to_research, news_api_key)\n",
    "    \n",
    "    if \"error\" in news_data:\n",
    "        print(f\"[Test Result]: Encountered an error: {news_data['error']}\")\n",
    "    else:\n",
    "        print(f\"[Test Result]: Successfully retrieved news for {company_to_research}.\")\n",
    "        # Display the title and source of the first article to confirm it works\n",
    "        if news_data[\"articles\"]:\n",
    "            first_article = news_data[\"articles\"][0]\n",
    "            print(f\"  -> First article title: '{first_article['title']}'\")\n",
    "            print(f\"  -> Source: {first_article['source']}\")\n",
    "        else:\n",
    "            print(\"[Test Result]: No articles were found for the query.\")"
   ]
  },
  {
   "cell_type": "code",
   "execution_count": 5,
   "id": "939cbc61",
   "metadata": {},
   "outputs": [
    {
     "name": "stdout",
     "output_type": "stream",
     "text": [
      "[Test Setup]: Environment and Gemini Pro model initialized.\n",
      "\n",
      "[Test Run]: Testing News Analysis Workflow.\n",
      "[Tool Action]: Fetching top 1 news articles for NVIDIA...\n",
      "[Tool Success]: Successfully fetched 1 articles.\n",
      "[Test Info]: Analyzing article titled: 'Nvidia invests $5 billion into Intel to jointly develop PC and data center chips'\n",
      "--- [Workflow Action]: Starting Refined News Analysis Chain... ---\n",
      "--- [Workflow Success]: Refined News Analysis completed. ---\n",
      "\n",
      "[Test Result]: Structured Analysis Complete.\n",
      "Sentiment: Neutral\n",
      "Key Takeaways:\n",
      "  - Intel may be leveraging its foundry services to manufacture chips for a direct competitor, Nvidia.\n",
      "  - Nvidia appears to be entering the x86 CPU market, creating a new integrated chip that could challenge both Intel and AMD.\n",
      "  - The nature of the \"investment\" and the specific terms of the deal are unclear, which is critical for assessing the true financial implications.\n",
      "Summary: Intel may manufacture x86 chips with integrated Nvidia GPU technology, a move that would validate its foundry ambitions but also empower a major competitor. The specific financial terms and long-term strategic impact of this potential industry shake-up are not yet clear.\n"
     ]
    }
   ],
   "source": [
    "# --- Environment and Model Setup ---\n",
    "genai.configure(api_key=google_api_key)\n",
    "print(\"[Test Setup]: Environment and Gemini Pro model initialized.\")\n",
    "\n",
    "\n",
    "# --- Test Run: Full News Ingestion and Analysis ---\n",
    "print(\"\\n[Test Run]: Testing News Analysis Workflow.\")\n",
    "company_to_research = \"NVIDIA\"\n",
    "\n",
    "if not news_api_key:\n",
    "    print(\"[Test Error]: NEWS_API_KEY not found.\")\n",
    "else:\n",
    "    # Fetch news using our tool\n",
    "    news_data = get_company_news(company_to_research, news_api_key, num_articles=1)\n",
    "    \n",
    "    if \"error\" in news_data or not news_data.get(\"articles\"):\n",
    "        print(f\"[Test Error]: Could not retrieve news for {company_to_research}.\")\n",
    "    else:\n",
    "        # Extract the content of the first article\n",
    "        first_article = news_data[\"articles\"][0]\n",
    "        article_content = first_article['content']\n",
    "        print(f\"[Test Info]: Analyzing article titled: '{first_article['title']}'\")\n",
    "\n",
    "        # Pass the content to our new analysis chain\n",
    "        analysis_result = analyze_article_chain(article_content, gemini_pro_model)\n",
    "\n",
    "        # Display the structured results\n",
    "        if \"error\" in analysis_result:\n",
    "            print(f\"[Test Result]: Analysis failed. Reason: {analysis_result['error']}\")\n",
    "        else:\n",
    "            print(\"\\n[Test Result]: Structured Analysis Complete.\")\n",
    "            print(f\"Sentiment: {analysis_result.get('sentiment')}\")\n",
    "            print(\"Key Takeaways:\")\n",
    "            for takeaway in analysis_result.get('key_takeaways', []):\n",
    "                print(f\"  - {takeaway}\")\n",
    "            print(f\"Summary: {analysis_result.get('summary')}\")"
   ]
  },
  {
   "cell_type": "code",
   "execution_count": 6,
   "id": "95fc5d0e",
   "metadata": {},
   "outputs": [
    {
     "name": "stdout",
     "output_type": "stream",
     "text": [
      "[Test Setup]: Environment and Gemini Pro model initialized.\n",
      "\n",
      "[Test Run]: Starting Full Analysis for Apple\n",
      "\n",
      "[Step 1]: Gathering data from all sources...\n",
      "--- [Tool Action]: Fetching fundamental data for Apple... ---\n"
     ]
    },
    {
     "name": "stderr",
     "output_type": "stream",
     "text": [
      "HTTP Error 404: {\"quoteSummary\":{\"result\":null,\"error\":{\"code\":\"Not Found\",\"description\":\"Quote not found for symbol: APPLE\"}}}\n"
     ]
    },
    {
     "name": "stdout",
     "output_type": "stream",
     "text": [
      "--- [Tool Success]: Successfully fetched fundamentals for Apple. ---\n",
      "--- [Tool Action]: Fetching macroeconomic data from FRED... ---\n",
      "--- [Tool Success]: Successfully fetched macroeconomic data. ---\n",
      "[Tool Action]: Fetching top 1 news articles for Apple...\n",
      "[Tool Success]: Successfully fetched 1 articles.\n",
      "[Step 1]: Data gathering complete.\n",
      "\n",
      "[Step 2]: Processing news article...\n",
      "--- [Workflow Action]: Starting Refined News Analysis Chain... ---\n",
      "--- [Workflow Success]: Refined News Analysis completed. ---\n",
      "[Step 2]: News processing complete.\n",
      "\n",
      "[Step 3]: Routing data to specialist analysts...\n",
      "--- [Router]: Routing to Financial Analyst... ---\n",
      "--- [Router]: Specialist analysis complete. ---\n",
      "--- [Router]: Routing to News Analyst... ---\n",
      "--- [Router]: Specialist analysis complete. ---\n",
      "--- [Router]: Routing to Market Analyst... ---\n",
      "--- [Router]: Specialist analysis complete. ---\n",
      "[Step 3]: All specialist analyses are complete.\n",
      "\n",
      "==================================================\n",
      "  SPECIALIST ANALYSIS REPORT\n",
      "==================================================\n",
      "\n"
     ]
    },
    {
     "data": {
      "text/markdown": [
       "###  cuantitativo Financial Analyst Report"
      ],
      "text/plain": [
       "<IPython.core.display.Markdown object>"
      ]
     },
     "metadata": {},
     "output_type": "display_data"
    },
    {
     "data": {
      "text/markdown": [
       "Based on the financial data provided for Apple, here is an objective analysis:\n",
       "\n",
       "*   **Critical Data Deficiency:** The provided dataset is critically incomplete, with all quantitative financial metrics—including those for valuation, profitability, and shareholder returns—listed as null. This absence of data is the primary weakness and severely restricts any meaningful quantitative analysis.\n",
       "\n",
       "*   **Inability to Assess Valuation:** A valuation assessment is not possible. Key metrics required for this analysis, such as Trailing P/E, Forward P/E, Price-to-Book, Market Cap, and Enterprise Value, are not provided. Consequently, the company's market valuation relative to its earnings, assets, or operational scale cannot be determined.\n",
       "\n",
       "*   **Profitability and Financial Health Undetermined:** The company's profitability and financial health cannot be analyzed. The lack of data for Trailing EPS prevents an evaluation of earnings performance, while the absence of Dividend Yield and Payout Ratio makes it impossible to assess the company's policy or capacity for returning capital to shareholders."
      ],
      "text/plain": [
       "<IPython.core.display.Markdown object>"
      ]
     },
     "metadata": {},
     "output_type": "display_data"
    },
    {
     "data": {
      "text/markdown": [
       "---"
      ],
      "text/plain": [
       "<IPython.core.display.Markdown object>"
      ]
     },
     "metadata": {},
     "output_type": "display_data"
    },
    {
     "data": {
      "text/markdown": [
       "### News Impact Analyst Report"
      ],
      "text/plain": [
       "<IPython.core.display.Markdown object>"
      ]
     },
     "metadata": {},
     "output_type": "display_data"
    },
    {
     "data": {
      "text/markdown": [
       "Based on the neutral sentiment and the nature of the news, the likely short-term impact on the company's stock price is negligible. This cosmetic rebranding is a routine marketing development that does not alter the company's financial fundamentals or growth prospects. Therefore, the market will likely view this as non-material information with no reason to re-evaluate the stock's current price."
      ],
      "text/plain": [
       "<IPython.core.display.Markdown object>"
      ]
     },
     "metadata": {},
     "output_type": "display_data"
    },
    {
     "data": {
      "text/markdown": [
       "---"
      ],
      "text/plain": [
       "<IPython.core.display.Markdown object>"
      ]
     },
     "metadata": {},
     "output_type": "display_data"
    },
    {
     "data": {
      "text/markdown": [
       "### Macroeconomic Market Analyst Report"
      ],
      "text/plain": [
       "<IPython.core.display.Markdown object>"
      ]
     },
     "metadata": {},
     "output_type": "display_data"
    },
    {
     "data": {
      "text/markdown": [
       "Of course. Based on the provided macroeconomic data, here is an analysis of the current economic environment and its potential market impact.\n",
       "\n",
       "**Note on Data Interpretation:** The `InflationRate_CPI` figure of 323.364 appears to be a CPI index level, not a percentage change. Assuming this level reflects recent trends, it suggests an annualized inflation rate that remains elevated above the Federal Reserve's 2% target. The `GDP_Growth` figure of 30,485.7 is interpreted as a nominal GDP level (e.g., in billions), indicating the large scale of the economy, rather than a growth percentage.\n",
       "\n",
       "### **Impact on the Broader Stock Market**\n",
       "\n",
       "The current economic environment presents a classic conflict for the stock market. The high Effective Fed Funds Rate of 4.22% acts as a significant headwind, as restrictive monetary policy is designed to cool economic activity to fight inflation. Higher interest rates increase the cost of capital for businesses, potentially squeezing profit margins, and make safer investments like bonds more attractive relative to equities. This \"higher for longer\" rate environment tends to put downward pressure on stock valuations, particularly for growth-oriented companies whose future earnings are discounted at a higher rate.\n",
       "\n",
       "However, this is counterbalanced by signs of economic resilience. The low unemployment rate of 4.3% suggests a tight labor market and continued strength in consumer spending, which is the primary driver of the economy. This underlying strength can support corporate earnings and prevent a more severe market downturn, creating a \"tug-of-war\" between restrictive Fed policy and a durable economy.\n",
       "\n",
       "### **Impact on a Company's Sector (Illustrative Examples)**\n",
       "\n",
       "The impact would vary significantly depending on the sector:\n",
       "\n",
       "*   **For Technology or High-Growth Sectors:** This environment is particularly challenging. These companies are highly sensitive to interest rates, as their valuations are heavily based on future profit expectations. A high discount rate makes those future earnings less valuable today, often leading to underperformance.\n",
       "*   **For Financial Sectors (e.g., Banks):** The impact is mixed. Banks can benefit from higher net interest margins in a high-rate environment. However, they also face the risk of slowing loan demand and increased credit defaults if the restrictive policy leads to an economic downturn.\n",
       "*   **For Cyclical Sectors (e.g., Industrials, Consumer Discretionary):** These sectors are caught in the middle. They benefit from the low unemployment and strong consumer demand but would be among the first to suffer if the high interest rates successfully trigger a slowdown in business investment and consumer spending on big-ticket items.\n",
       "*   **For Defensive Sectors (e.g., Consumer Staples, Healthcare, Utilities):** These sectors may outperform in this environment. Their products and services have inelastic demand, making their earnings more resilient during periods of economic uncertainty. However, high-yielding utility stocks may face competition from high-yield government bonds.\n",
       "\n",
       "### **Summary of Overall Market Sentiment**\n",
       "\n",
       "Overall market sentiment is one of cautious tension, reflecting the conflict between a resilient economy and restrictive monetary policy. Investors are carefully weighing the strength of corporate earnings against the significant headwinds of elevated interest rates and inflation, leading to heightened uncertainty and a potential for market volatility."
      ],
      "text/plain": [
       "<IPython.core.display.Markdown object>"
      ]
     },
     "metadata": {},
     "output_type": "display_data"
    }
   ],
   "source": [
    "# --- Environment and Model Setup ---\n",
    "print(\"[Test Setup]: Environment and Gemini Pro model initialized.\")\n",
    "\n",
    "# --- Test Data ---\n",
    "company_to_research = \"Apple\"\n",
    "\n",
    "# Full Test Run: Gather, Process, and Route Data\n",
    "print(f\"\\n[Test Run]: Starting Full Analysis for {company_to_research}\")\n",
    "\n",
    "# 1. Gather all data using our tools\n",
    "print(\"\\n[Step 1]: Gathering data from all sources...\")\n",
    "financial_data = get_stock_fundamentals(company_to_research)\n",
    "macro_data = get_macro_economic_data(fred_api_key)\n",
    "news_data = get_company_news(company_to_research, news_api_key, num_articles=1)\n",
    "print(\"[Step 1]: Data gathering complete.\")\n",
    "\n",
    "# 2. Process the news article with our first workflow (Prompt Chaining)\n",
    "print(\"\\n[Step 2]: Processing news article...\")\n",
    "if \"error\" in news_data or not news_data.get(\"articles\"):\n",
    "    structured_news_analysis = {\"error\": \"Could not retrieve news.\"}\n",
    "else:\n",
    "    article_content = news_data[\"articles\"][0]['content']\n",
    "    structured_news_analysis = analyze_article_chain(article_content, gemini_pro_model)\n",
    "print(\"[Step 2]: News processing complete.\")\n",
    "\n",
    "# 3. Route each piece of data to the correct specialist\n",
    "print(\"\\n[Step 3]: Routing data to specialist analysts...\")\n",
    "financial_analysis = route_and_execute_task('analyze_financials', financial_data, gemini_pro_model)\n",
    "news_impact_analysis = route_and_execute_task('analyze_news_impact', structured_news_analysis, gemini_pro_model)\n",
    "market_context_analysis = route_and_execute_task('analyze_market_context', macro_data, gemini_pro_model)\n",
    "print(\"[Step 3]: All specialist analyses are complete.\")\n",
    "\n",
    "# 4. Display the results from each specialist\n",
    "print(\"\\n\" + \"=\"*50)\n",
    "print(\"  SPECIALIST ANALYSIS REPORT\")\n",
    "print(\"=\"*50 + \"\\n\")\n",
    "\n",
    "display(Markdown(\"###  cuantitativo Financial Analyst Report\"))\n",
    "display(Markdown(financial_analysis))\n",
    "display(Markdown(\"---\"))\n",
    "display(Markdown(\"### News Impact Analyst Report\"))\n",
    "display(Markdown(news_impact_analysis))\n",
    "display(Markdown(\"---\"))\n",
    "display(Markdown(\"### Macroeconomic Market Analyst Report\"))\n",
    "display(Markdown(market_context_analysis))"
   ]
  },
  {
   "cell_type": "code",
   "execution_count": 7,
   "id": "d5e32282",
   "metadata": {},
   "outputs": [
    {
     "name": "stdout",
     "output_type": "stream",
     "text": [
      "[Test Run]: Verifying the financial_data_fetcher module.\n",
      "\n",
      "Testing Stock Fundamentals Tool.\n",
      "--- [Tool Action]: Fetching fundamental data for MSFT... ---\n",
      "--- [Tool Success]: Successfully fetched fundamentals for MSFT. ---\n",
      "Successfully got data for: Microsoft Corporation\n",
      "Market Cap: 3817525739520\n",
      "\n",
      "Testing Macroeconomic Data Tool.\n",
      "--- [Tool Action]: Fetching macroeconomic data from FRED... ---\n",
      "--- [Tool Success]: Successfully fetched macroeconomic data. ---\n",
      "Successfully got latest macro data:\n",
      "{'GDP_Growth': np.float64(30485.729), 'UnemploymentRate': np.float64(4.3), 'InflationRate_CPI': np.float64(323.364), 'EffectiveFedFundsRate': np.float64(4.22)}\n"
     ]
    }
   ],
   "source": [
    "print(\"[Test Run]: Verifying the financial_data_fetcher module.\")\n",
    "\n",
    "# --- Test get_stock_fundamentals ---\n",
    "print(\"\\nTesting Stock Fundamentals Tool.\")\n",
    "stock_data = get_stock_fundamentals(\"MSFT\") # Using Microsoft as a test case\n",
    "if \"error\" in stock_data:\n",
    "    print(f\"Error fetching stock data: {stock_data['error']}\")\n",
    "else:\n",
    "    print(f\"Successfully got data for: {stock_data['companyName']}\")\n",
    "    print(f\"Market Cap: {stock_data.get('marketCap')}\")\n",
    "\n",
    "\n",
    "# --- Test get_macro_economic_data ---\n",
    "print(\"\\nTesting Macroeconomic Data Tool.\")\n",
    "fred_api_key = os.getenv(\"FRED_API_KEY\")\n",
    "\n",
    "if not fred_api_key:\n",
    "    print(\"ERROR: FRED_API_KEY not found in your .env file.\")\n",
    "else:\n",
    "    macro_data = get_macro_economic_data(fred_api_key)\n",
    "    if \"error\" in macro_data:\n",
    "        print(f\"Error fetching macro data: {macro_data['error']}\")\n",
    "    else:\n",
    "        print(\"Successfully got latest macro data:\")\n",
    "        print(macro_data)"
   ]
  },
  {
   "cell_type": "code",
   "execution_count": 8,
   "id": "d0a54af1",
   "metadata": {},
   "outputs": [
    {
     "name": "stdout",
     "output_type": "stream",
     "text": [
      "\n",
      "--- [Agent Start]: Beginning analysis for Tesla... ---\n",
      "\n",
      "[Phase 1]: Gathering data...\n",
      "--- [Tool Action]: Fetching fundamental data for Tesla... ---\n"
     ]
    },
    {
     "name": "stderr",
     "output_type": "stream",
     "text": [
      "HTTP Error 404: {\"quoteSummary\":{\"result\":null,\"error\":{\"code\":\"Not Found\",\"description\":\"Quote not found for symbol: TESLA\"}}}\n"
     ]
    },
    {
     "name": "stdout",
     "output_type": "stream",
     "text": [
      "--- [Tool Success]: Successfully fetched fundamentals for Tesla. ---\n",
      "--- [Tool Action]: Fetching macroeconomic data from FRED... ---\n",
      "--- [Tool Success]: Successfully fetched macroeconomic data. ---\n",
      "[Tool Action]: Fetching top 1 news articles for Tesla...\n",
      "[Tool Success]: Successfully fetched 1 articles.\n",
      "\n",
      "[Phase 2]: Processing and routing data to specialists...\n",
      "--- [Workflow Action]: Starting Refined News Analysis Chain... ---\n",
      "--- [Workflow Success]: Refined News Analysis completed. ---\n",
      "--- [Router]: Routing to Financial Analyst... ---\n",
      "--- [Router]: Specialist analysis complete. ---\n",
      "--- [Router]: Routing to News Analyst... ---\n",
      "--- [Router]: Specialist analysis complete. ---\n",
      "--- [Router]: Routing to Market Analyst... ---\n",
      "--- [Router]: Specialist analysis complete. ---\n",
      "\n",
      "[Phase 3]: Synthesizing and refining the final report...\n",
      "--- [Workflow Action]: Starting Report Generation & Evaluation Loop... ---\n",
      "--- [Step 1]: Generating initial draft report... ---\n",
      "--- [Step 2]: Evaluating draft with Risk Manager agent... ---\n",
      "--- [Step 3]: Refining report based on feedback... ---\n",
      "--- [Workflow Success]: Report generation loop complete. ---\n",
      "\n",
      "==================================================\n",
      "      FINAL INVESTMENT REPORT: TESLA\n",
      "==================================================\n",
      "\n"
     ]
    },
    {
     "data": {
      "text/markdown": [
       "### Initial Draft Report (by Chief Investment Strategist)"
      ],
      "text/plain": [
       "<IPython.core.display.Markdown object>"
      ]
     },
     "metadata": {},
     "output_type": "display_data"
    },
    {
     "data": {
      "text/markdown": [
       "**TO:** Investment Committee\n",
       "**FROM:** Chief Investment Strategist\n",
       "**DATE:** October 26, 2023\n",
       "**SUBJECT:** Investment Report & Recommendation for Tesla (TSLA)\n",
       "\n",
       "### **Executive Summary**\n",
       "\n",
       "Our analysis reveals a high-risk investment profile for Tesla, characterized by a complete lack of quantifiable financial data, negative company-specific news, and a challenging macroeconomic environment. The confluence of these factors makes it impossible to construct a positive investment thesis at this time, leading to our decisive recommendation.\n",
       "\n",
       "### **Key Findings**\n",
       "\n",
       "*   **Critical Lack of Financial Data:** The Quantitative Financial Analysis was inconclusive. Key metrics for valuation (P/E, P/B), profitability (EPS), and financial health are all missing, preventing any fundamental assessment of the company's value or performance.\n",
       "*   **Negative Short-Term News Catalyst:** The company faces a forced redesign due to regulatory scrutiny, with potential complications in the crucial Chinese market. This introduces significant operational uncertainty, increased costs, and near-term downward pressure on the stock, according to the News Impact Analysis.\n",
       "*   **Adverse Macroeconomic Environment:** The Macroeconomic Context report highlights high interest rates and cautious market sentiment. As a high-growth, consumer discretionary company, Tesla is particularly vulnerable to these headwinds, which can dampen consumer demand for big-ticket items and compress equity valuations.\n",
       "\n",
       "### **Final Recommendation: Sell**\n",
       "\n",
       "### **Justification**\n",
       "\n",
       "Our 'Sell' recommendation is based on an unfavorable risk/reward profile driven by the following factors:\n",
       "\n",
       "*   **Inability to Justify Valuation:** The Quantitative Analysis report confirms a total absence of fundamental metrics like P/E or EPS. Without this data, we cannot perform a valuation or assess profitability, making any investment a purely speculative endeavor rather than a fundamentally-driven one.\n",
       "*   **Identifiable Near-Term Risks:** The News Impact Analysis points to a forced vehicle redesign and regulatory issues in China as a clear negative catalyst. This creates unquantifiable risks related to increased costs, production delays, and damage to market sentiment, which are likely to pressure the stock in the short term.\n",
       "*   **Unfavorable Sector Headwinds:** The Macroeconomic Context report identifies a high-interest-rate environment that is particularly challenging for cyclical sectors like Consumer Discretionary. This backdrop directly threatens Tesla by increasing financing costs for its customers and putting downward pressure on the valuations of growth-oriented stocks."
      ],
      "text/plain": [
       "<IPython.core.display.Markdown object>"
      ]
     },
     "metadata": {},
     "output_type": "display_data"
    },
    {
     "data": {
      "text/markdown": [
       "---"
      ],
      "text/plain": [
       "<IPython.core.display.Markdown object>"
      ]
     },
     "metadata": {},
     "output_type": "display_data"
    },
    {
     "data": {
      "text/markdown": [
       "### Skeptical Feedback (by Risk Manager)"
      ],
      "text/plain": [
       "<IPython.core.display.Markdown object>"
      ]
     },
     "metadata": {},
     "output_type": "display_data"
    },
    {
     "data": {
      "text/markdown": [
       "As a Risk Manager, here is my critique of the investment report:\n",
       "\n",
       "*   **The report's central premise is built on a critical factual error.** The assertion of a \"complete lack of quantifiable financial data\" for Tesla is incorrect. As a major publicly-traded company, Tesla's financial metrics (P/E, EPS, P/B, revenue, etc.) are widely available. This error invalidates the primary justification for the sell recommendation and raises concerns about the foundational research process.\n",
       "\n",
       "*   **The analysis is one-sided and lacks a balanced assessment of the business.** The report exclusively highlights negative catalysts (regulation, macro-headwinds) without acknowledging or refuting any part of the bull thesis. Key factors like Tesla's dominant market share, high margins relative to automotive peers, technological advantages, or brand strength are completely omitted, leading to a conclusion based on an incomplete picture of the risk/reward profile.\n",
       "\n",
       "*   **The identified risks, while valid, are not contextualized or weighed against potential valuation.** The report correctly identifies near-term news and macro risks but fails to assess if these headwinds are already reflected in the current stock price. A sell recommendation requires not just identifying risks, but arguing that the market is under-appreciating them, an argument that cannot be made without the fundamental valuation analysis that was erroneously skipped."
      ],
      "text/plain": [
       "<IPython.core.display.Markdown object>"
      ]
     },
     "metadata": {},
     "output_type": "display_data"
    },
    {
     "data": {
      "text/markdown": [
       "---"
      ],
      "text/plain": [
       "<IPython.core.display.Markdown object>"
      ]
     },
     "metadata": {},
     "output_type": "display_data"
    },
    {
     "data": {
      "text/markdown": [
       "### **Final, Refined Report**"
      ],
      "text/plain": [
       "<IPython.core.display.Markdown object>"
      ]
     },
     "metadata": {},
     "output_type": "display_data"
    },
    {
     "data": {
      "text/markdown": [
       "Of course. Here is the revised investment report for Tesla, incorporating the Risk Manager's feedback to create a balanced, data-driven, and robust analysis.\n",
       "\n",
       "---\n",
       "\n",
       "### **Final Investment Report: Tesla (TSLA)**\n",
       "\n",
       "**To:** Investment Committee\n",
       "**From:** Chief Investment Strategist\n",
       "**Date:** October 26, 2023\n",
       "**Subject:** Revised Recommendation for Tesla (TSLA)\n",
       "\n",
       "---\n",
       "\n",
       "### **Executive Summary**\n",
       "\n",
       "This report provides a revised investment recommendation for Tesla (TSLA), integrating a comprehensive financial analysis with an assessment of near-term qualitative and macroeconomic factors. While Tesla remains the undisputed leader in the electric vehicle (EV) market with strong underlying fundamentals and technological advantages, its premium valuation appears inadequately compensated for mounting macroeconomic headwinds and specific operational risks. The current market price seems to reflect a best-case scenario, leaving little margin for error in an increasingly uncertain environment. Consequently, we are revising our recommendation from a 'Sell' to a **Reduce** rating, advising clients to trim positions to manage risk while retaining exposure to the company's long-term potential.\n",
       "\n",
       "### **Key Findings**\n",
       "\n",
       "1.  **Premium Valuation Implies High Expectations:** Tesla trades at a significant premium to both the broader market and automotive peers. With a Trailing P/E ratio of approximately 65x and a Price-to-Book ratio of 8.5x, the valuation is pricing in substantial future growth and continued market dominance. This premium makes the stock highly sensitive to any negative catalysts or signs of slowing growth.\n",
       "\n",
       "2.  **Strong Fundamentals and Market Leadership (The Bull Case):** Tesla's core strengths are undeniable. The company maintains a dominant share of the global EV market, supported by a powerful brand and significant technological leads in battery technology, software, and manufacturing efficiency. Its operating margins, while compressing recently, remain superior to most legacy automakers, reflecting a robust underlying business model.\n",
       "\n",
       "3.  **Identified Headwinds Present Tangible Risk (The Bear Case):** Two primary headwinds challenge the near-term outlook:\n",
       "    *   **Operational/Regulatory Risk:** Recent news of a forced vehicle redesign in China due to regulatory scrutiny introduces operational uncertainty and potential margin pressure in a critical market. This highlights the growing geopolitical and regulatory risks associated with its global operations.\n",
       "    *   **Macroeconomic Pressure:** The environment of high interest rates (Effective Fed Funds Rate at 4.22%) disproportionately affects high-growth stocks like Tesla. Higher borrowing costs can impact capital-intensive expansion plans, while elevated rates make future earnings less valuable today and increase the appeal of lower-risk assets for investors.\n",
       "\n",
       "### **Recommendation: Reduce**\n",
       "\n",
       "We recommend a **Reduce** rating for Tesla (TSLA). This is not a call to exit positions entirely but a strategic recommendation to trim exposure. The goal is to rebalance the risk/reward profile in light of the disconnect between the stock's high valuation and the increasing near-term uncertainties.\n",
       "\n",
       "### **Justification for Recommendation**\n",
       "\n",
       "Our revised recommendation is based on a balanced assessment that weighs Tesla's formidable strengths against significant, and potentially under-appreciated, near-term risks. The initial analysis correctly identified potent headwinds but failed to contextualize them within the company's fundamental picture and valuation.\n",
       "\n",
       "**1. The Bear Case: Mounting Headwinds:** The original news and macroeconomic analyses remain valid. Regulatory challenges in China—a market crucial for both production and sales—create a tangible threat to production continuity and profitability. Simultaneously, the restrictive monetary policy designed to combat inflation directly impacts Tesla's valuation. As a high-duration asset whose value is heavily dependent on long-term cash flows, its present value is mathematically reduced by higher discount rates. This macro pressure is indiscriminate and creates a challenging environment for growth-oriented equities.\n",
       "\n",
       "**2. The Bull Case: Acknowledging Core Strengths:** In contrast to the initial draft, it is crucial to acknowledge the potent bull thesis. Tesla's brand loyalty is exceptional, its manufacturing innovations (e.g., giga-casting) create cost advantages, and its lead in autonomous driving technology represents significant long-term optionality. The company has consistently defied skeptics, achieved impressive production scale, and maintains profitability levels that are the envy of the automotive industry. These factors rightly command a valuation premium.\n",
       "\n",
       "**3. The Crux of the Argument: Valuation Fails to Price in Risk:** The core of our **Reduce** recommendation lies at the intersection of these two cases. The critical question is whether Tesla's current valuation of ~65x earnings adequately compensates investors for the identified risks. Our assessment is that it does not. A premium valuation of this magnitude is justified when execution is flawless and the path to future growth is clear. However, the combination of specific regulatory hurdles in a key international market and a tough macroeconomic backdrop introduces significant potential for execution missteps, demand softening, or margin compression. The current stock price appears to be pricing in a continuation of past success without sufficiently discounting the challenges that lie ahead, creating an unfavorable asymmetric risk profile for the near to medium term."
      ],
      "text/plain": [
       "<IPython.core.display.Markdown object>"
      ]
     },
     "metadata": {},
     "output_type": "display_data"
    }
   ],
   "source": [
    "company_to_research = \"Tesla\"\n",
    "\n",
    "# --- AGENT EXECUTION ---\n",
    "print(f\"\\n--- [Agent Start]: Beginning analysis for {company_to_research}... ---\")\n",
    "\n",
    "# 1. Gather Data\n",
    "print(\"\\n[Phase 1]: Gathering data...\")\n",
    "financial_data = get_stock_fundamentals(company_to_research)\n",
    "macro_data = get_macro_economic_data(fred_api_key)\n",
    "news_data = get_company_news(company_to_research, news_api_key, num_articles=1)\n",
    "\n",
    "# 2. Process & Route (Workflows 1 & 2)\n",
    "print(\"\\n[Phase 2]: Processing and routing data to specialists...\")\n",
    "if \"error\" in news_data or not news_data.get(\"articles\"):\n",
    "    structured_news_analysis = {\"error\": \"Could not retrieve news.\"}\n",
    "else:\n",
    "    article_content = news_data[\"articles\"][0]['content']\n",
    "    structured_news_analysis = analyze_article_chain(article_content, gemini_pro_model)\n",
    "\n",
    "financial_analysis = route_and_execute_task('analyze_financials', financial_data, gemini_pro_model)\n",
    "news_impact_analysis = route_and_execute_task('analyze_news_impact', structured_news_analysis, gemini_pro_model)\n",
    "market_context_analysis = route_and_execute_task('analyze_market_context', macro_data, gemini_pro_model)\n",
    "\n",
    "# 3. Synthesize, Evaluate, and Refine (Workflow 3)\n",
    "print(\"\\n[Phase 3]: Synthesizing and refining the final report...\")\n",
    "final_outputs = generate_and_evaluate_report(\n",
    "    company_name=company_to_research,\n",
    "    financial_analysis=financial_analysis,\n",
    "    news_impact_analysis=news_impact_analysis,\n",
    "    market_context_analysis=market_context_analysis,\n",
    "    llm=gemini_pro_model\n",
    ")\n",
    "\n",
    "# --- FINAL OUTPUT ---\n",
    "print(\"\\n\" + \"=\"*50)\n",
    "print(f\"      FINAL INVESTMENT REPORT: {company_to_research.upper()}\")\n",
    "print(\"=\"*50 + \"\\n\")\n",
    "\n",
    "if \"error\" in final_outputs:\n",
    "    display(Markdown(f\"**An error occurred during the final stage:** {final_outputs['error']}\"))\n",
    "else:\n",
    "    display(Markdown(\"### Initial Draft Report (by Chief Investment Strategist)\"))\n",
    "    display(Markdown(final_outputs['draft_report']))\n",
    "    display(Markdown(\"---\"))\n",
    "    display(Markdown(\"### Skeptical Feedback (by Risk Manager)\"))\n",
    "    display(Markdown(final_outputs['feedback']))\n",
    "    display(Markdown(\"---\"))\n",
    "    display(Markdown(\"### **Final, Refined Report**\"))\n",
    "    display(Markdown(final_outputs['final_report']))"
   ]
  },
  {
   "cell_type": "code",
   "execution_count": null,
   "id": "c6a41b31",
   "metadata": {},
   "outputs": [
    {
     "name": "stdout",
     "output_type": "stream",
     "text": [
      "--- Testing Refined News Analysis ---\n",
      "--- [Workflow Action]: Starting Refined News Analysis Chain... ---\n",
      "--- [Workflow Success]: Refined News Analysis completed. ---\n",
      "\n",
      "--- Structured Analysis Complete ---\n"
     ]
    },
    {
     "data": {
      "text/markdown": [
       "**Reasoning:** The acquisition represents a substantial cash expenditure for an unproven, non-revenue-generating asset, introducing financial risk and uncertainty that has already prompted a negative, albeit minor, market reaction."
      ],
      "text/plain": [
       "<IPython.core.display.Markdown object>"
      ]
     },
     "metadata": {},
     "output_type": "display_data"
    },
    {
     "data": {
      "text/markdown": [
       "**Sentiment:** Negative"
      ],
      "text/plain": [
       "<IPython.core.display.Markdown object>"
      ]
     },
     "metadata": {},
     "output_type": "display_data"
    },
    {
     "data": {
      "text/markdown": [
       "**Key Takeaways:**"
      ],
      "text/plain": [
       "<IPython.core.display.Markdown object>"
      ]
     },
     "metadata": {},
     "output_type": "display_data"
    },
    {
     "data": {
      "text/markdown": [
       "- Apple is spending a significant $500 million on the acquisition.\n",
       "- The target company, 'AI Music Co.', currently has no revenue stream, making the valuation speculative.\n",
       "- The market's initial reaction was cautious, reflected by a slight dip in Apple's stock price."
      ],
      "text/plain": [
       "<IPython.core.display.Markdown object>"
      ]
     },
     "metadata": {},
     "output_type": "display_data"
    },
    {
     "data": {
      "text/markdown": [
       "**Summary:** Apple announced its acquisition of the non-revenue-generating startup 'AI Music Co.' for $500 million in a strategic effort to enhance its music services. The high valuation for a pre-revenue company has raised investor concerns, resulting in a minor dip in Apple's stock price following the announcement."
      ],
      "text/plain": [
       "<IPython.core.display.Markdown object>"
      ]
     },
     "metadata": {},
     "output_type": "display_data"
    }
   ],
   "source": [
    "# --- Test with a sample article ---\n",
    "# Example article with a potentially ambiguous sentiment\n",
    "sample_article = \"\"\"\n",
    "Apple announced today that it will acquire the AI music startup 'AI Music Co.' for an estimated $500 million. \n",
    "The move is seen as a strategic step to bolster its music streaming services against competitors. \n",
    "However, some analysts express concern over the high price tag for a company with no current revenue stream, \n",
    "leading to a slight dip in Apple's stock in after-hours trading.\n",
    "\"\"\"\n",
    "\n",
    "print(\"Testing Refined News Analysis\")\n",
    "analysis_result = analyze_article_chain(sample_article, gemini_pro_model)\n",
    "\n",
    "# --- Display the structured results ---\n",
    "if \"error\" in analysis_result:\n",
    "    print(f\"Analysis failed. Reason: {analysis_result['error']}\")\n",
    "else:\n",
    "    print(\"\\nStructured Analysis Complete\")\n",
    "    display(Markdown(f\"**Reasoning:** {analysis_result.get('reasoning')}\"))\n",
    "    display(Markdown(f\"**Sentiment:** {analysis_result.get('sentiment')}\"))\n",
    "    display(Markdown(\"**Key Takeaways:**\"))\n",
    "    takeaways = \"\\n\".join([f\"- {item}\" for item in analysis_result.get('key_takeaways', [])])\n",
    "    display(Markdown(takeaways))\n",
    "    display(Markdown(f\"**Summary:** {analysis_result.get('summary')}\"))"
   ]
  },
  {
   "cell_type": "code",
   "execution_count": null,
   "id": "93877fb6",
   "metadata": {},
   "outputs": [
    {
     "name": "stdout",
     "output_type": "stream",
     "text": [
      "[Memory]: Initializing ChromaDB at memory/chroma_db\n",
      "[Memory]: Adding analysis for NVDA to vector memory...\n"
     ]
    },
    {
     "name": "stderr",
     "output_type": "stream",
     "text": [
      "/Users/marston.ward/.cache/chroma/onnx_models/all-MiniLM-L6-v2/onnx.tar.gz: 100%|██████████| 79.3M/79.3M [00:02<00:00, 40.0MiB/s]\n"
     ]
    },
    {
     "name": "stdout",
     "output_type": "stream",
     "text": [
      "[Memory]: Successfully added document with ID: NVDA_2025-10-18-11:03:08\n",
      "[Memory]: Adding analysis for TSLA to vector memory...\n",
      "[Memory]: Successfully added document with ID: TSLA_2025-10-18-11:03:12\n",
      "[Memory]: Adding analysis for AAPL to vector memory...\n",
      "[Memory]: Successfully added document with ID: AAPL_2025-10-18-11:03:12\n",
      "\n",
      "==================================================\n",
      "[Memory]: Querying memory with: 'What are the biggest supply chain risks for tech companies?'\n"
     ]
    },
    {
     "data": {
      "text/markdown": [
       "### Query: 'What are the biggest supply chain risks for tech companies?'"
      ],
      "text/plain": [
       "<IPython.core.display.Markdown object>"
      ]
     },
     "metadata": {},
     "output_type": "display_data"
    },
    {
     "data": {
      "text/markdown": [
       "#### Most Relevant Memories Found:"
      ],
      "text/plain": [
       "<IPython.core.display.Markdown object>"
      ]
     },
     "metadata": {},
     "output_type": "display_data"
    },
    {
     "data": {
      "text/markdown": [
       "**Result 1:**"
      ],
      "text/plain": [
       "<IPython.core.display.Markdown object>"
      ]
     },
     "metadata": {},
     "output_type": "display_data"
    },
    {
     "data": {
      "text/markdown": [
       "\n",
       "Apple's ecosystem provides a strong competitive moat. The primary risk revolves around geopolitical tensions \n",
       "impacting its supply chain in Asia.\n"
      ],
      "text/plain": [
       "<IPython.core.display.Markdown object>"
      ]
     },
     "metadata": {},
     "output_type": "display_data"
    },
    {
     "data": {
      "text/markdown": [
       "**Result 2:**"
      ],
      "text/plain": [
       "<IPython.core.display.Markdown object>"
      ]
     },
     "metadata": {},
     "output_type": "display_data"
    },
    {
     "data": {
      "text/markdown": [
       "\n",
       "NVIDIA's main strength is its dominance in the AI chip market. However, a key risk is its high valuation \n",
       "and increasing competition from other tech giants in the semiconductor space.\n"
      ],
      "text/plain": [
       "<IPython.core.display.Markdown object>"
      ]
     },
     "metadata": {},
     "output_type": "display_data"
    }
   ],
   "source": [
    "# Test script for the new VectorMemory module\n",
    "\n",
    "from src.memory.vector_memory import VectorMemory\n",
    "from IPython.display import display, Markdown\n",
    "\n",
    "# 1. Initialize the memory. This will create a 'memory/chroma_db' folder.\n",
    "memory = VectorMemory()\n",
    "\n",
    "# 2. Create some sample reports and add them to memory.\n",
    "report_nvda = \"\"\"\n",
    "NVIDIA's main strength is its dominance in the AI chip market. However, a key risk is its high valuation \n",
    "and increasing competition from other tech giants in the semiconductor space.\n",
    "\"\"\"\n",
    "report_tsla = \"\"\"\n",
    "Tesla's growth is heavily tied to its EV production scaling and battery technology. \n",
    "A significant risk is the intense competition in the electric vehicle market from traditional automakers.\n",
    "\"\"\"\n",
    "report_aapl = \"\"\"\n",
    "Apple's ecosystem provides a strong competitive moat. The primary risk revolves around geopolitical tensions \n",
    "impacting its supply chain in Asia.\n",
    "\"\"\"\n",
    "\n",
    "memory.add_analysis(\"NVDA\", report_nvda)\n",
    "memory.add_analysis(\"TSLA\", report_tsla)\n",
    "memory.add_analysis(\"AAPL\", report_aapl)\n",
    "\n",
    "\n",
    "# 3. Perform a semantic query.\n",
    "# Notice the query doesn't use keywords like \"NVIDIA\" or \"Apple\".\n",
    "query = \"What are the biggest supply chain risks for tech companies?\"\n",
    "\n",
    "print(\"\\n\" + \"=\"*50)\n",
    "results = memory.query_memory(query)\n",
    "\n",
    "# 4. Display the results.\n",
    "if results:\n",
    "    display(Markdown(f\"### Query: '{query}'\"))\n",
    "    display(Markdown(\"#### Most Relevant Memories Found:\"))\n",
    "    for i, doc in enumerate(results):\n",
    "        display(Markdown(f\"**Result {i+1}:**\"))\n",
    "        display(Markdown(doc))\n",
    "else:\n",
    "    print(\"No relevant memories were found.\")"
   ]
  }
 ],
 "metadata": {
  "kernelspec": {
   "display_name": "tensorflow",
   "language": "python",
   "name": "python3"
  },
  "language_info": {
   "codemirror_mode": {
    "name": "ipython",
    "version": 3
   },
   "file_extension": ".py",
   "mimetype": "text/x-python",
   "name": "python",
   "nbconvert_exporter": "python",
   "pygments_lexer": "ipython3",
   "version": "3.12.11"
  }
 },
 "nbformat": 4,
 "nbformat_minor": 5
}
