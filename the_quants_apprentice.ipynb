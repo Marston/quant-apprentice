{
  "nbformat": 4,
  "nbformat_minor": 0,
  "metadata": {
    "colab": {
      "provenance": [],
      "gpuType": "T4",
      "authorship_tag": "ABX9TyMeG760iWCmoAiIiYu3J3gq",
      "include_colab_link": true
    },
    "kernelspec": {
      "name": "python3",
      "display_name": "Python 3"
    },
    "language_info": {
      "name": "python"
    },
    "accelerator": "GPU"
  },
  "cells": [
    {
      "cell_type": "markdown",
      "metadata": {
        "id": "view-in-github",
        "colab_type": "text"
      },
      "source": [
        "<a href=\"https://colab.research.google.com/github/Marston/quant-apprentice/blob/main/the_quants_apprentice.ipynb\" target=\"_parent\"><img src=\"https://colab.research.google.com/assets/colab-badge.svg\" alt=\"Open In Colab\"/></a>"
      ]
    },
    {
      "cell_type": "markdown",
      "source": [
        "# Quant Apprentice\n",
        "\n",
        "⚙️ Agentic Workflow Patterns\n",
        "Quant Apprentice implements three distinct workflow patterns that enable its complex, end-to-end analysis capabilities.\n",
        "\n",
        "1. Prompt Chaining (Sequential Task Processing)\n",
        "\n",
        "  This pattern is used for structured data processing tasks, particularly for news analysis. The agent executes a series of prompts in a specific order to transform raw data into a concise summary.\n",
        "\n",
        "  Workflow: `Ingest News → Preprocess Text → Classify Sentiment → Extract Key Entities → Summarize Findings`\n",
        "\n",
        "2. Routing (Specialized Sub-Agents)\n",
        "\n",
        "  To handle diverse types of information, `the main agent routes tasks` to specialized sub-agents. Each sub-agent is an expert in a specific domain, ensuring that the right logic is applied to the right data.\n",
        "\n",
        "  - Earnings Analyzer: Focuses on parsing quarterly earnings reports and financial statements.\n",
        "\n",
        "  - News Analyzer: Specializes in sentiment analysis and summarization of market news.\n",
        "\n",
        "  - Market Analyzer: Analyzes price action, volume, and technical indicators.\n",
        "\n",
        "3. Evaluator–Optimizer Loop (Iterative Refinement)\n",
        "\n",
        "  This is the agent's self-improvement mechanism. The system generates an initial analysis, evaluates it against a set of quality criteria, and then uses the feedback to generate a refined, more comprehensive final output.\n",
        "\n",
        "  Workflow: `Generate Initial Analysis → Evaluate Quality & Completeness → Provide Feedback to Agent → Generate Refined Analysis`\n",
        "\n",
        "\n"
      ],
      "metadata": {
        "id": "zWiq39F3z0zd"
      }
    },
    {
      "cell_type": "code",
      "execution_count": null,
      "metadata": {
        "id": "0Nf1Lm6npGsm"
      },
      "outputs": [],
      "source": [
        "%pip install langgraph langchain langchain_google_genai yfinance"
      ]
    },
    {
      "cell_type": "code",
      "source": [
        "# Clones the project repository from GitHub\n",
        "!git clone https://github.com/marston/Quant-Apprentice.git"
      ],
      "metadata": {
        "id": "CO-gcbkYpXac",
        "colab": {
          "base_uri": "https://localhost:8080/"
        },
        "outputId": "b55135bb-6f0a-45a9-d9bb-2de504e27be1"
      },
      "execution_count": 2,
      "outputs": [
        {
          "output_type": "stream",
          "name": "stdout",
          "text": [
            "Cloning into 'Quant-Apprentice'...\n",
            "remote: Enumerating objects: 3, done.\u001b[K\n",
            "remote: Counting objects: 100% (3/3), done.\u001b[K\n",
            "remote: Compressing objects: 100% (2/2), done.\u001b[K\n",
            "remote: Total 3 (delta 0), reused 0 (delta 0), pack-reused 0 (from 0)\u001b[K\n",
            "Receiving objects: 100% (3/3), done.\n"
          ]
        }
      ]
    },
    {
      "cell_type": "code",
      "source": [
        "%cd Quant-Apprentice/"
      ],
      "metadata": {
        "colab": {
          "base_uri": "https://localhost:8080/"
        },
        "id": "YQToYZtk4fNc",
        "outputId": "ff5e3fa6-7144-42fd-b8ab-01246a6f811e"
      },
      "execution_count": 3,
      "outputs": [
        {
          "output_type": "stream",
          "name": "stdout",
          "text": [
            "/content/Quant-Apprentice\n"
          ]
        }
      ]
    },
    {
      "cell_type": "code",
      "source": [],
      "metadata": {
        "id": "980b2ebK4jGZ"
      },
      "execution_count": null,
      "outputs": []
    }
  ]
}