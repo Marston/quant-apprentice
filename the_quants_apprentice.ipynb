{
  "nbformat": 4,
  "nbformat_minor": 0,
  "metadata": {
    "colab": {
      "provenance": [],
      "gpuType": "T4",
      "machine_shape": "hm",
      "authorship_tag": "ABX9TyMDjTDdzrjWjbbw3Xv2M1cD",
      "include_colab_link": true
    },
    "kernelspec": {
      "name": "python3",
      "display_name": "Python 3"
    },
    "language_info": {
      "name": "python"
    },
    "accelerator": "GPU"
  },
  "cells": [
    {
      "cell_type": "markdown",
      "metadata": {
        "id": "view-in-github",
        "colab_type": "text"
      },
      "source": [
        "<a href=\"https://colab.research.google.com/github/Marston/quant-apprentice/blob/main/the_quants_apprentice.ipynb\" target=\"_parent\"><img src=\"https://colab.research.google.com/assets/colab-badge.svg\" alt=\"Open In Colab\"/></a>"
      ]
    },
    {
      "cell_type": "markdown",
      "source": [
        "# Quant Apprentice\n",
        "\n",
        "⚙️ Agentic Workflow Patterns\n",
        "Quant Apprentice implements three distinct workflow patterns that enable its complex, end-to-end analysis capabilities.\n",
        "\n",
        "1. Prompt Chaining (Sequential Task Processing)\n",
        "\n",
        "  This pattern is used for structured data processing tasks, particularly for news analysis. The agent executes a series of prompts in a specific order to transform raw data into a concise summary.\n",
        "\n",
        "  Workflow: `Ingest News → Preprocess Text → Classify Sentiment → Extract Key Entities → Summarize Findings`\n",
        "\n",
        "2. Routing (Specialized Sub-Agents)\n",
        "\n",
        "  To handle diverse types of information, `the main agent routes tasks` to specialized sub-agents. Each sub-agent is an expert in a specific domain, ensuring that the right logic is applied to the right data.\n",
        "\n",
        "  - Earnings Analyzer: Focuses on parsing quarterly earnings reports and financial statements.\n",
        "\n",
        "  - News Analyzer: Specializes in sentiment analysis and summarization of market news.\n",
        "\n",
        "  - Market Analyzer: Analyzes price action, volume, and technical indicators.\n",
        "\n",
        "3. Evaluator–Optimizer Loop (Iterative Refinement)\n",
        "\n",
        "  This is the agent's self-improvement mechanism. The system generates an initial analysis, evaluates it against a set of quality criteria, and then uses the feedback to generate a refined, more comprehensive final output.\n",
        "\n",
        "  Workflow: `Generate Initial Analysis → Evaluate Quality & Completeness → Provide Feedback to Agent → Generate Refined Analysis`\n",
        "\n",
        "\n"
      ],
      "metadata": {
        "id": "zWiq39F3z0zd"
      }
    },
    {
      "cell_type": "code",
      "execution_count": 1,
      "metadata": {
        "id": "0Nf1Lm6npGsm",
        "colab": {
          "base_uri": "https://localhost:8080/"
        },
        "outputId": "18b3ea2a-6009-4cbb-db74-a6db7f5d17d3"
      },
      "outputs": [
        {
          "output_type": "stream",
          "name": "stdout",
          "text": [
            "fatal: destination path 'Quant-Apprentice' already exists and is not an empty directory.\n",
            "fatal: not a git repository (or any of the parent directories): .git\n",
            "/content/Quant-Apprentice\n",
            "From https://github.com/marston/Quant-Apprentice\n",
            " * branch            main       -> FETCH_HEAD\n",
            "Already on 'main'\n",
            "Your branch is up to date with 'origin/main'.\n",
            "Installing packages...\n"
          ]
        }
      ],
      "source": [
        "# Clones the project repository from GitHub\n",
        "!git clone https://github.com/marston/Quant-Apprentice.git\n",
        "\n",
        "!git config --global user.email \"shejo284@gmail.com\"\n",
        "!git config --global user.name \"Marston Ward\"\n",
        "!git remote add origin https://github.com/marston/Quant-Apprentice.git\n",
        "\n",
        "%cd Quant-Apprentice/\n",
        "\n",
        "# Add the requirements.txt file to the staging area\n",
        "!git fetch origin main\n",
        "!git checkout main\n",
        "print(\"Installing packages...\")\n",
        "%pip install --upgrade --quiet -r requirements.txt"
      ]
    },
    {
      "cell_type": "code",
      "metadata": {
        "id": "52e5ef96"
      },
      "source": [
        "# Commit the changes with a message\n",
        "#!git commit -m \"Add requirements.txt\"\n",
        "# Push the changes to the remote repository\n",
        "#!git push origin main"
      ],
      "execution_count": null,
      "outputs": []
    },
    {
      "cell_type": "code",
      "source": [
        "# Step 2: Import necessary libraries and set up API key\n",
        "import os\n",
        "import yfinance as yf\n",
        "\n",
        "from google.colab import userdata\n",
        "import google.generativeai as genai\n",
        "from langchain_google_genai import ChatGoogleGenerativeAI\n",
        "from langchain.prompts import ChatPromptTemplate, PromptTemplate\n",
        "from langchain_core.output_parsers import StrOutputParser\n",
        "from typing import TypedDict, List\n",
        "from langgraph.graph import StateGraph, END\n",
        "\n",
        "print(\"✅ Libraries installed.\")"
      ],
      "metadata": {
        "colab": {
          "base_uri": "https://localhost:8080/"
        },
        "id": "vfpQzhn4uTX1",
        "outputId": "6675cb80-8359-4621-f49c-e84f15f5b3e7"
      },
      "execution_count": 2,
      "outputs": [
        {
          "output_type": "stream",
          "name": "stdout",
          "text": [
            "✅ Libraries installed.\n"
          ]
        }
      ]
    },
    {
      "cell_type": "code",
      "source": [
        "# List all the Models available. Use this when need to change the LLM\n",
        "\n",
        "!curl \"https://generativelanguage.googleapis.com/v1beta/models?key=API_KEY\""
      ],
      "metadata": {
        "id": "QQf4-Rd_I3N_"
      },
      "execution_count": null,
      "outputs": []
    },
    {
      "cell_type": "code",
      "source": [
        "# Constants\n",
        "LLM_MODEL = \"gemini-2.5-flash\"\n",
        "\n",
        "# Load your key from Colab Secrets\n",
        "try:\n",
        "    api_key = userdata.get('GOOGLE_API_KEY')\n",
        "    os.environ['GOOGLE_API_KEY'] = api_key\n",
        "    genai.configure(api_key=api_key)\n",
        "    print(\"Google API Key configured successfully!\")\n",
        "except userdata.SecretNotFoundError:\n",
        "    print(\"ERROR: 'GOOGLE_API_KEY' not found in Colab Secrets. Please add it.\")\n",
        "except Exception as e:\n",
        "    print(f\"An error occurred: {e}\")\n",
        "\n",
        "\n",
        "# Initialize the Gemini model we'll use for all patterns\n",
        "# Using Google Flash\n",
        "llm = ChatGoogleGenerativeAI(model=LLM_MODEL)\n",
        "\n",
        "print(\"LLM Initialized. You are ready to build the agent patterns!\")"
      ],
      "metadata": {
        "colab": {
          "base_uri": "https://localhost:8080/"
        },
        "id": "oJaCK-jSsdCY",
        "outputId": "768bffed-6912-4378-a2db-7dcb597ebfe9"
      },
      "execution_count": 3,
      "outputs": [
        {
          "output_type": "stream",
          "name": "stdout",
          "text": [
            "Google API Key configured successfully!\n",
            "LLM Initialized. You are ready to build the agent patterns!\n"
          ]
        }
      ]
    },
    {
      "cell_type": "code",
      "source": [
        "print(\"--- ⚙️ Pattern 1: Prompt Chaining Workflow ---\")\n",
        "\n",
        "# --- Define Each Step (Prompt) in our Chain ---\n",
        "\n",
        "# Step 1: Classify the sentiment of the article\n",
        "sentiment_prompt = ChatPromptTemplate.from_template(\n",
        "    \"Analyze the following news article and classify its sentiment as strictly 'Positive', 'Negative', or 'Neutral'.\\n\\nArticle: {article}\"\n",
        ")\n",
        "\n",
        "# Step 2: Extract key companies and people mentioned\n",
        "entities_prompt = ChatPromptTemplate.from_template(\n",
        "    \"From this article, extract the key entities (Companies, People, Products) mentioned. Format them as a simple comma-separated list.\\n\\nArticle: {article}\"\n",
        ")\n",
        "\n",
        "# Step 3: Summarize the article for a financial analyst\n",
        "summary_prompt = ChatPromptTemplate.from_template(\n",
        "    \"You are a financial analyst providing a quick brief. Based on the article which has a '{sentiment}' sentiment, write a 2-sentence summary highlighting the key financial impact.\\n\\nArticle: {article}\"\n",
        ")\n",
        "\n",
        "# --- Create the Chains for Each Step ---\n",
        "# The '|' (pipe) operator is like a conveyor belt, linking the prompt, the model, and the output parser.\n",
        "sentiment_chain = sentiment_prompt | llm | StrOutputParser()\n",
        "entities_chain = entities_prompt | llm | StrOutputParser()\n",
        "summary_chain = summary_prompt | llm | StrOutputParser()\n",
        "\n",
        "# --- Run the Full Workflow with a sample article ---\n",
        "news_article = \"\"\"\n",
        "NEW YORK – Shares of QuantumLeap Inc. surged over 25% today after the company unveiled its groundbreaking 'Fusion' processor.\n",
        "CEO Dr. Evelyn Reed claimed the chip is 50 times faster than anything on the market, positioning them to dominate the data center industry.\n",
        "Major cloud providers are already in talks for multi-billion dollar contracts.\n",
        "\"\"\"\n",
        "\n",
        "print(\"\\n📰 Processing news article...\")\n",
        "\n",
        "# Execute Step 1\n",
        "article_sentiment = sentiment_chain.invoke({\"article\": news_article})\n",
        "\n",
        "# Execute Step 2\n",
        "key_entities = entities_chain.invoke({\"article\": news_article})\n",
        "\n",
        "# Execute Step 3, feeding in the sentiment from the previous step\n",
        "final_summary = summary_chain.invoke({\"sentiment\": article_sentiment, \"article\": news_article})\n",
        "\n",
        "# --- Display the structured results ---\n",
        "print(\"\\n--- ✅ Analysis Complete ---\")\n",
        "print(f\"Sentiment: {article_sentiment}\")\n",
        "print(f\"Key Entities: {key_entities}\")\n",
        "print(f\"Final Summary: {final_summary}\")"
      ],
      "metadata": {
        "colab": {
          "base_uri": "https://localhost:8080/"
        },
        "id": "ZesDCmfZw7VY",
        "outputId": "74e4de4f-b8f4-452d-961c-b07699de6b93"
      },
      "execution_count": 4,
      "outputs": [
        {
          "output_type": "stream",
          "name": "stdout",
          "text": [
            "--- ⚙️ Pattern 1: Prompt Chaining Workflow ---\n",
            "\n",
            "📰 Processing news article...\n",
            "\n",
            "--- ✅ Analysis Complete ---\n",
            "Sentiment: Positive\n",
            "Key Entities: QuantumLeap Inc., Dr. Evelyn Reed, Fusion\n",
            "Final Summary: QuantumLeap Inc. shares surged over 25% today following the unveiling of its groundbreaking 'Fusion' processor, indicating strong immediate investor confidence. This innovation is expected to secure multi-billion dollar contracts with major cloud providers, projecting substantial future revenue and market dominance.\n"
          ]
        }
      ]
    },
    {
      "cell_type": "code",
      "source": [
        "print(\"--- ⚙️ Pattern 2: Routing Workflow ---\")\n",
        "\n",
        "# --- 1. Define Your Specialist Sub-Agents (as Python functions) ---\n",
        "\n",
        "def earnings_analyzer(ticker: str):\n",
        "    \"\"\"\n",
        "    Placeholder for a function that would analyze SEC filings or earnings call transcripts.\n",
        "    \"\"\"\n",
        "    print(f\" -> Routed to: Earnings Analyzer for {ticker}\")\n",
        "    return f\"Analysis of {ticker}'s latest earnings report shows a 15% year-over-year revenue increase.\"\n",
        "\n",
        "def news_analyzer(ticker: str):\n",
        "    \"\"\"\n",
        "    Placeholder that could use our prompt chain from Pattern 1.\n",
        "    \"\"\"\n",
        "    print(f\"  -> Routed to: News Analyzer for {ticker}\")\n",
        "    return f\"Analysis of recent news for {ticker} indicates positive sentiment following new product announcements.\"\n",
        "\n",
        "def market_analyzer(ticker: str):\n",
        "    \"\"\"\n",
        "    A simple market data analyzer that uses a real tool (yfinance).\n",
        "    \"\"\"\n",
        "    print(f\"  -> Routed to: Market Analyzer for {ticker}\")\n",
        "    try:\n",
        "        stock = yf.Ticker(ticker)\n",
        "        hist = stock.history(period=\"1mo\")\n",
        "        last_close = hist['Close'].iloc[-1]\n",
        "        return f\"Market data for {ticker}: The last closing price was ${last_close:.2f}.\"\n",
        "    except Exception:\n",
        "        return f\"Could not fetch market data for {ticker}.\"\n",
        "\n",
        "# --- 2. Create the Routing Logic ---\n",
        "# This prompt asks the LLM to act as the dispatcher.\n",
        "routing_template = \"\"\"Given the user's query about a stock, classify it as one of the following categories: 'Earnings', 'News', or 'Market'. Respond with only a single word.\n",
        "\n",
        "Query: {query}\n",
        "Classification:\"\"\"\n",
        "\n",
        "router_prompt = PromptTemplate.from_template(routing_template)\n",
        "router_chain = router_prompt | llm | StrOutputParser()\n",
        "\n",
        "# --- 3. Build the Main Router Function ---\n",
        "def route_query(query: str, ticker: str):\n",
        "    \"\"\"Routes a query to the correct specialist function.\"\"\"\n",
        "    print(f\"\\nUser Query: '{query}' for {ticker}\")\n",
        "    destination = router_chain.invoke({\"query\": query}).strip()\n",
        "    print(f\" -> Routed to: {destination}\")\n",
        "\n",
        "    if \"Earnings\" in destination:\n",
        "        return earnings_analyzer(ticker)\n",
        "    elif \"News\" in destination:\n",
        "        return news_analyzer(ticker)\n",
        "    elif \"Market\" in destination:\n",
        "        return market_analyzer(ticker)\n",
        "    else:\n",
        "        return f\"Could not route query. Unknown destination: '{destination}'\"\n",
        "\n",
        "# --- 4. Test the Router ---\n",
        "print(\"--- Testing Router with Different Queries ---\")\n",
        "print(f\"Agent Response: {route_query('How did their profits look last quarter?', 'MSFT')}\")\n",
        "print(f\"Agent Response: {route_query('What is the latest chatter about them?', 'NVDA')}\")\n",
        "print(f\"Agent Response: {route_query('What is the current stock price?', 'AAPL')}\")"
      ],
      "metadata": {
        "colab": {
          "base_uri": "https://localhost:8080/"
        },
        "id": "tz9uwgZtxEou",
        "outputId": "dcb2542f-4d0a-4192-949c-fa0afa8b5c1e"
      },
      "execution_count": 5,
      "outputs": [
        {
          "output_type": "stream",
          "name": "stdout",
          "text": [
            "--- ⚙️ Pattern 2: Routing Workflow ---\n",
            "--- Testing Router with Different Queries ---\n",
            "\n",
            "User Query: 'How did their profits look last quarter?' for MSFT\n",
            " -> Routed to: Earnings\n",
            " -> Routed to: Earnings Analyzer for MSFT\n",
            "Agent Response: Analysis of MSFT's latest earnings report shows a 15% year-over-year revenue increase.\n",
            "\n",
            "User Query: 'What is the latest chatter about them?' for NVDA\n",
            " -> Routed to: News\n",
            "  -> Routed to: News Analyzer for NVDA\n",
            "Agent Response: Analysis of recent news for NVDA indicates positive sentiment following new product announcements.\n",
            "\n",
            "User Query: 'What is the current stock price?' for AAPL\n",
            " -> Routed to: Market\n",
            "  -> Routed to: Market Analyzer for AAPL\n",
            "Agent Response: Market data for AAPL: The last closing price was $254.43.\n"
          ]
        }
      ]
    },
    {
      "cell_type": "code",
      "source": [
        "print(\"--- ⚙️ Pattern 3: Evaluator-Optimizer Loop with LangGraph ---\")\n",
        "\n",
        "# --- 1. Define the State ---\n",
        "# This object is the \"memory\" that gets passed between the steps in our graph.\n",
        "class AgentState(TypedDict):\n",
        "    topic: str\n",
        "    analysis: str\n",
        "    feedback: list\n",
        "    revision_count: int\n",
        "\n",
        "# --- 2. Define the Graph Nodes (The \"Workers\") ---\n",
        "def generator_node(state: AgentState):\n",
        "    \"\"\"\n",
        "    Generates the financial analysis (or revises it based on feedback).\n",
        "    \"\"\"\n",
        "    print(f\"\\n--- Turn {state['revision_count'] + 1}: GENERATING ANALYSIS ---\")\n",
        "    topic = state['topic']\n",
        "    feedback = state.get('feedback', [])\n",
        "\n",
        "    if feedback:\n",
        "        print(\"  -> Revising based on feedback...\")\n",
        "        prompt = f\"Revise the following analysis based on the feedback. Produce an improved, more balanced version.\\n\\nFeedback: {feedback[-1]}\\n\\nAnalysis to Revise: {state['analysis']}\"\n",
        "    else:\n",
        "        print(\"  -> Generating initial draft...\")\n",
        "        prompt = f\"Generate a concise financial analysis for {topic}. Cover its primary strengths, weaknesses, and a concluding outlook.\"\n",
        "\n",
        "    analysis = llm.invoke(prompt).content\n",
        "    return {\"analysis\": analysis, \"revision_count\": state['revision_count'] + 1}\n",
        "\n",
        "def evaluator_node(state: AgentState):\n",
        "    \"\"\"Evaluates the analysis and provides feedback or approval.\"\"\"\n",
        "    print(\"--- EVALUATING ANALYSIS ---\")\n",
        "    analysis = state['analysis']\n",
        "    prompt = f\"You are a Senior Investment Manager. Evaluate this analysis. Is it detailed, balanced, and actionable? If it is good enough to present, respond with only 'OK'. Otherwise, provide one sentence of constructive feedback.\\n\\nAnalysis:\\n{analysis}\"\n",
        "    evaluation = llm.invoke(prompt).content\n",
        "\n",
        "    if \"OK\" in evaluation:\n",
        "        print(\"  -> Evaluation: Analysis Approved.\")\n",
        "        return {\"feedback\": []}  # Empty feedback list signals completion\n",
        "    else:\n",
        "        print(f\"  -> Evaluation: Feedback provided -> '{evaluation.strip()}'\")\n",
        "        return {\"feedback\": state['feedback'] + [evaluation.strip()]}\n",
        "\n",
        "# --- 3. Define the Conditional Edge (The \"Manager\") ---\n",
        "def should_continue(state: AgentState):\n",
        "    \"\"\"Determines whether to loop back for revision or to end.\"\"\"\n",
        "    if state['feedback']:\n",
        "        if state['revision_count'] >= 2: # Set a limit to avoid infinite loops\n",
        "            print(\"--- Max revisions reached. Ending loop. ---\")\n",
        "            return \"end\"\n",
        "        return \"continue\"\n",
        "    else:\n",
        "        print(\"--- No feedback. Finalizing analysis. ---\")\n",
        "        return \"end\"\n",
        "\n",
        "# --- 4. Build and Run the Graph ---\n",
        "workflow = StateGraph(AgentState)\n",
        "workflow.add_node(\"generator\", generator_node)\n",
        "workflow.add_node(\"evaluator\", evaluator_node)\n",
        "\n",
        "workflow.set_entry_point(\"generator\")\n",
        "workflow.add_edge(\"generator\", \"evaluator\")\n",
        "workflow.add_conditional_edges(\"evaluator\", should_continue, {\"continue\": \"generator\", \"end\": END})\n",
        "\n",
        "app = workflow.compile()\n",
        "\n",
        "# Let's run the loop!\n",
        "initial_state = {\"topic\": \"Tesla (TSLA)\", \"feedback\": [], \"revision_count\": 0}\n",
        "final_state = app.invoke(initial_state)\n",
        "\n",
        "print(\"\\n\\n--- ✅ FINAL, REFINED ANALYSIS ---\")\n",
        "print(final_state['analysis'])"
      ],
      "metadata": {
        "colab": {
          "base_uri": "https://localhost:8080/"
        },
        "id": "T4kNu9N1xO-H",
        "outputId": "1ecdaedb-26c3-47ac-b110-71f4ffad4dd3"
      },
      "execution_count": 6,
      "outputs": [
        {
          "output_type": "stream",
          "name": "stdout",
          "text": [
            "--- ⚙️ Pattern 3: Evaluator-Optimizer Loop with LangGraph ---\n",
            "\n",
            "--- Turn 1: GENERATING ANALYSIS ---\n",
            "  -> Generating initial draft...\n",
            "--- EVALUATING ANALYSIS ---\n",
            "  -> Evaluation: Analysis Approved.\n",
            "--- No feedback. Finalizing analysis. ---\n",
            "\n",
            "\n",
            "--- ✅ FINAL, REFINED ANALYSIS ---\n",
            "Here's a concise financial analysis for Tesla (TSLA):\n",
            "\n",
            "**Tesla (TSLA) - Concise Financial Analysis**\n",
            "\n",
            "**Strengths:**\n",
            "\n",
            "1.  **Market Leadership & Brand:** Dominant position in the electric vehicle (EV) market, fueled by strong global brand recognition, an integrated Supercharger network, and a loyal customer base.\n",
            "2.  **Technological Prowess:** Advanced battery technology, proprietary software (Autopilot/FSD potential), and efficient manufacturing processes (Gigafactories) provide a competitive edge.\n",
            "3.  **Diversified Growth Avenues:** Growing energy generation and storage division (Powerwall, Megapack) and ambitious ventures into AI/robotics offer significant long-term diversification and revenue potential.\n",
            "\n",
            "**Weaknesses:**\n",
            "\n",
            "1.  **Intensifying Competition & Margin Pressure:** Rapidly increasing competition from legacy automakers and new EV entrants globally is leading to pricing pressures and eroding automotive gross margins.\n",
            "2.  **High Valuation & Growth Expectations:** Current valuation remains premium, relying heavily on sustained aggressive growth rates, successful expansion into new ventures (e.g., FSD, robotaxi), and flawless execution.\n",
            "3.  **Execution Risk & CEO Dependence:** New model launches (e.g., Cybertruck ramp-up) face execution risks, and the company's trajectory can be significantly influenced by CEO Elon Musk's various ventures and public statements.\n",
            "\n",
            "**Outlook:**\n",
            "\n",
            "Tesla remains a formidable innovator with significant long-term potential, particularly in its energy and AI divisions. However, the EV market is maturing and becoming intensely competitive. Future success hinges on effective cost management, successful new product introductions beyond the core Model 3/Y, and scaling its energy and AI initiatives efficiently. Its high growth potential is balanced by significant execution risks and a demanding valuation that requires continued, strong financial performance to justify.\n"
          ]
        }
      ]
    },
    {
      "cell_type": "markdown",
      "source": [
        "# Build the Agents"
      ],
      "metadata": {
        "id": "NGzixAl6ZNgq"
      }
    },
    {
      "cell_type": "code",
      "source": [
        "# Prompt chaining for this Agent which takes news and distill it into a\n",
        "# clear sentiment: positive or negative\n",
        "# sentiment_chain | entities_chain | summary_chain\n",
        "\n",
        "# (Ingest News → Classify Sentiment → Extract Entities → Summarize)\n",
        "# main tool for this agent:\n",
        "class NewsSentimentAnalystAgent:\n",
        "\n",
        "    def analyze_news(self, article_text):\n",
        "\n",
        "        # chaining logic goes here\n",
        "        sentiment = sentiment_chain.invoke({\"article\": article_text})\n",
        "        entities = entities_chain.invoke({\"article\": article_text})\n",
        "        summary = summary_chain.invoke({\"sentiment\": sentiment, \"article\": article_text})\n",
        "\n",
        "        return {\n",
        "            \"sentiment\": sentiment, \"entities\": entities, \"summary\": summary\n",
        "            }"
      ],
      "metadata": {
        "id": "ISUJ6XiaZNJX"
      },
      "execution_count": 7,
      "outputs": []
    },
    {
      "cell_type": "code",
      "source": [
        "# The final prompt for the Manager Agent\n",
        "final_report_prompt = \"\"\"\n",
        "You are a Chief Investment Strategist. Your task is to create a final investment thesis.\n",
        "\n",
        "You have received the following inputs:\n",
        "\n",
        "1.  **Quantitative Analysis:**\n",
        "    {quantitative_report}\n",
        "\n",
        "2.  **News & Sentiment Analysis:**\n",
        "    {news_summary}\n",
        "\n",
        "Synthesize these two distinct pieces of information into a coherent report. Your report must include:\n",
        "- An Executive Summary\n",
        "- Key Quantitative Highlights\n",
        "- News & Sentiment Overview\n",
        "- A Final Recommendation (Buy/Hold/Sell) with a 3-point justification.\n",
        "\"\"\""
      ],
      "metadata": {
        "id": "9qMnvqlgcZFg"
      },
      "execution_count": 8,
      "outputs": []
    }
  ]
}