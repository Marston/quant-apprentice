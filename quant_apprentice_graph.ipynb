{
 "cells": [
  {
   "cell_type": "code",
   "execution_count": null,
   "id": "6930b36c",
   "metadata": {},
   "outputs": [],
   "source": [
    "from src.agent_graph import app, AgentState\n",
    "from IPython.display import display, Markdown\n",
    "import json\n",
    "\n",
    "# --- Agent Configuration ---\n",
    "company_name = \"Microsoft\"\n",
    "company_ticker = \"MSFT\"\n",
    "\n",
    "# This is the initial input for our graph.\n",
    "initial_state: AgentState = {\n",
    "    \"company_name\": company_name,\n",
    "    \"company_ticker\": company_ticker,\n",
    "    \"revision_count\": 0\n",
    "}\n",
    "\n",
    "print(f\"🚀 Starting Quant Apprentice agent for {company_name}...\")\n",
    "\n",
    "# --- Run the Agentic Graph ---\n",
    "# The .stream() method lets us see the output of each node as it runs.\n",
    "final_state = None\n",
    "for s in app.stream(initial_state):\n",
    "    # The key of the dictionary is the name of the node that just ran.\n",
    "    node_name = list(s.keys())[0]\n",
    "    print(f\"Finished Node: {node_name} ✅\")\n",
    "    print(json.dumps(s[node_name], indent=2, ensure_ascii=False))\n",
    "    final_state = s[node_name]\n",
    "\n",
    "# --- Display Final Report ---\n",
    "print(\"\\n\" + \"=\"*50)\n",
    "print(\"✅ Agent run complete.\")\n",
    "print(\"=\"*50 + \"\\n\")\n",
    "\n",
    "# Use the 'final_report' if it exists, otherwise use the 'draft_report'.\n",
    "report_to_display = final_state.get('final_report') or final_state.get('draft_report', \"No report was generated.\")\n",
    "feedback = final_state.get('feedback', \"No feedback was generated.\")\n",
    "\n",
    "display(Markdown(f\"# Final Report for {company_name}\"))\n",
    "display(Markdown(\"---\"))\n",
    "display(Markdown(f\"## Critic's Feedback:\\n*{feedback}*\"))\n",
    "display(Markdown(\"---\"))\n",
    "display(Markdown(\"## Final Report:\"))\n",
    "display(Markdown(report_to_display))"
   ]
  }
 ],
 "metadata": {
  "language_info": {
   "name": "python"
  }
 },
 "nbformat": 4,
 "nbformat_minor": 5
}
